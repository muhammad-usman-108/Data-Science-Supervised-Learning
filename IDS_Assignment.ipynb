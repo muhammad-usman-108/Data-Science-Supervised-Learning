{
 "cells": [
  {
   "cell_type": "markdown",
   "metadata": {},
   "source": [
    "# The First Part of the Assignment of IDS 2019-2020\n",
    "Document your results as well as the way you obtained them in this jupyter notebook. A seperate report (pdf, word etc.) is _not_ required. However, it is necessary that you provide the python code leading to your results as well as textual answers to the assignment questions in this notebook. *DO NOT CLEAR THE OUTPUT of the notebook your are submitting!* In the cases that the result of an algorithm is pdf, jpg, etc, you should attach the result to this notebook file and refer to that in the text.  \n",
    "\n",
    "Next to the jupyter notebook, submit one zip-file containing all data sets that you are asked to submit. Make sure they are easily identifiable, i.e. use names as requested in the corresponding question.\n",
    "\n",
    "Do not change the general structure of this notebook, but you can add further markdown or code cells to explain your solutions if necessary. In the end, submit this file and your created data sets in moodle.\n",
    "\n",
    "Only <font color=\"red\">one </font> group member should upload your group's solution. *Make sure to include group members' names and matriculation numbers*. If your name and student id are not included in the report, you will not receive any points!\n",
    "\n",
    "\n",
    "Hint 1: While answering the questions, you will get a better and better impression of the given data. However, feel free to compute additional results and vizualizations to motivate the decisions you need to make, for example with respect to modification, simplification or sampling of the data. <font color=\"red\"><b>Ensure that all claims you make are supported by the presented facts!</b></font>\n",
    "\n",
    "Hint 2: <font color=\"red\"><b>Some of the tasks might need some time to run. Take this into account in your planning.</b></font>\n",
    "\n",
    "Hint 3: RWTHonline allows for multiple submissions (each submission overwrites the previous ones). <font color=\"red\"><b>Partial submissions are possible and encouraged. </b></font> This helps in case of technical problems of RWTHonline, which do seldomly happen."
   ]
  },
  {
   "cell_type": "markdown",
   "metadata": {},
   "source": [
    "<font color=\"red\"><b>Student Names and IDs:\n",
    "    1.  Muhammad Usman (Matriculation Number : 407503)\n",
    "    2.  Yashab Faryal (Matriculation Number : 407548)"
   ]
  },
  {
   "cell_type": "markdown",
   "metadata": {},
   "source": [
    "## Preprocessing of the Dataset (5 points)\n",
    " You should carry out some preprocessing steps before starting the analysis:\n",
    " - Select 90% of 'population_density' dataset by random sampling.\n",
    "     - Use one of the group member's student number as a seed.\n",
    " - Add another column to the dataset:\n",
    "     - Name it 'population_density_categorical'.\n",
    "     - The values in this column depend on values in 'population_density' column and will be defined as follows:\n",
    "        - 5824=<population density              corresponding value in 'population_density_categorical' column: 'very high'\n",
    "        - 4368=<population density<5824         corresponding value in 'population_density_categorical' column: 'high'\n",
    "        - 2912=<population density<4368         corresponding value in 'population_density_categorical' column: 'medium'\n",
    "        - 1456=<population density<2912         corresponding value in 'population_density_categorical' column: 'low' \n",
    "        - population density<1456               corresponding value in 'population_density_categorical' column: 'very low'\n",
    " - After completing this preprocessing step, export your final dataset as 'population_density_categorical.csv' dataset and use that for next steps of the assignment.\n",
    " - If it is not directly mentioned, you should always use your extracted (above-created) dataset (without any cleaning).\n",
    " - <font color='red'>Important!</font> Make sure that you submit your extracted dataset with your result in moodle."
   ]
  },
  {
   "cell_type": "code",
   "execution_count": 81,
   "metadata": {},
   "outputs": [],
   "source": [
    "import numpy as np\n",
    "import pandas as pd\n",
    "import matplotlib.pyplot as plt\n",
    "import seaborn as sns\n",
    "from pandas import DataFrame\n",
    "from sklearn.preprocessing import StandardScaler\n",
    "from sklearn.linear_model import LinearRegression\n",
    "from sklearn.metrics import mean_squared_error, mean_absolute_error, median_absolute_error, precision_score, recall_score, f1_score\n",
    "from sklearn.svm import SVC\n",
    "from sklearn.model_selection import train_test_split\n",
    "from sklearn.model_selection import cross_validate\n",
    "from IPython.display import IFrame    "
   ]
  },
  {
   "cell_type": "code",
   "execution_count": 60,
   "metadata": {},
   "outputs": [],
   "source": [
    "import warnings\n",
    "warnings.filterwarnings('ignore')"
   ]
  },
  {
   "cell_type": "code",
   "execution_count": 61,
   "metadata": {},
   "outputs": [],
   "source": [
    "#path of the file\n",
    "data_url = 'population_density.csv'\n",
    "\n",
    "# read data from csv file as pandas dataframe\n",
    "df = pd.read_csv(data_url)\n",
    "\n",
    "# frac=0.9 which means 90% selection of data using random sampling\n",
    "# random_state is used as seed (Here I am using my Matriculation No. as required)\n",
    "df_percent = df.sample(frac=0.9, random_state=407503)\n",
    "df_percent.to_csv('population_density_90percent_sampled.csv')\n",
    "\n",
    "population_density_categorical = []\n",
    "\n",
    "for i in range(0,len(df_percent[\"population_density\"])):\n",
    "    if (df_percent.iloc[i][\"population_density\"] >= 5824):\n",
    "        population_density_categorical.append(\"very high\")\n",
    "    elif (df_percent.iloc[i][\"population_density\"] >= 4368 and df_percent.iloc[i][\"population_density\"]<5824):\n",
    "        population_density_categorical.append(\"high\")\n",
    "    elif (df_percent.iloc[i][\"population_density\"] >= 2912 and df_percent.iloc[i][\"population_density\"]<4368):\n",
    "        population_density_categorical.append(\"medium\")\n",
    "    elif (df_percent.iloc[i][\"population_density\"] >= 1456 and df_percent.iloc[i][\"population_density\"]<2912):\n",
    "        population_density_categorical.append(\"low\")\n",
    "    elif (df_percent.iloc[i][\"population_density\"] < 1456):\n",
    "        population_density_categorical.append(\"very low\")\n",
    "\n",
    "df_percent[\"population_density_categorical\"] = population_density_categorical\n",
    "\n",
    "export_csv = df_percent.to_csv (r'population_density_categorical.csv') "
   ]
  },
  {
   "cell_type": "markdown",
   "metadata": {},
   "source": [
    "## Question 1 - Insights into the Data (20 points):"
   ]
  },
  {
   "cell_type": "markdown",
   "metadata": {},
   "source": [
    "### Dealing with Outliers (10 points)\n",
    "   (a) Use a boxplot to find and remove the outliers from \"temperature\". Note that based on the boxplot the values greater than upper-whisker and less than lower-whisker are considered as the outliers. Now you should  have two datasets (cleaned and original)."
   ]
  },
  {
   "cell_type": "code",
   "execution_count": 156,
   "metadata": {},
   "outputs": [
    {
     "data": {
      "text/plain": [
       "Text(0.5, 1.0, 'Temperature without outliers')"
      ]
     },
     "execution_count": 156,
     "metadata": {},
     "output_type": "execute_result"
    },
    {
     "data": {
      "image/png": "[encoded data removed]",
      "text/plain": [
       "<Figure size 1152x432 with 2 Axes>"
      ]
     },
     "metadata": {},
     "output_type": "display_data"
    }
   ],
   "source": [
    "data_url = 'population_density_categorical.csv'\n",
    "\n",
    "# read data from csv file as pandas dataframe\n",
    "df_original = pd.read_csv(data_url)\n",
    "\n",
    "upper_quartile = df_original[\"temperature\"].quantile(0.75)\n",
    "lower_quartile = df_original[\"temperature\"].quantile(0.25)\n",
    "IQR = (upper_quartile - lower_quartile)\n",
    "upperFence = upper_quartile + 1.5 * IQR\n",
    "lowerFence = lower_quartile - 1.5 * IQR\n",
    "\n",
    "# removing outliers - Cleaning the data\n",
    "df_cleaned = df_original[df_original.temperature > lowerFence]\n",
    "df_cleaned = df_cleaned[df_original.temperature < upperFence]\n",
    "\n",
    "# After removing the outliers, export the cleaned dataset into CSV file - named 'population_density_categorical_clean.csv'\n",
    "export_csv = df_cleaned.to_csv (r'population_density_categorical_clean.csv') \n",
    "\n",
    "# plotting_before_removing_outliers\n",
    "plt.figure(figsize=(16, 6))\n",
    "plt.subplot(121)\n",
    "sns.boxplot(df_original[\"temperature\"], orient='v')\n",
    "plt.title('Temperature with outliers')\n",
    "\n",
    "# plotting_after_removing_outliers\n",
    "plt.subplot(122)\n",
    "sns.boxplot(df_cleaned[\"temperature\"], orient='v')\n",
    "plt.title('Temperature without outliers')"
   ]
  },
  {
   "cell_type": "markdown",
   "metadata": {},
   "source": [
    "   (b) Compare basic statistical features of \"temperature\" (median, mean, and mode) in the cleaned and original datasets.    Interpret the differences for these statistical values between the cleaned and original datasets. "
   ]
  },
  {
   "cell_type": "code",
   "execution_count": 146,
   "metadata": {},
   "outputs": [
    {
     "data": {
      "text/html": [
       "<div>\n",
       "<style scoped>\n",
       "    .dataframe tbody tr th:only-of-type {\n",
       "        vertical-align: middle;\n",
       "    }\n",
       "\n",
       "    .dataframe tbody tr th {\n",
       "        vertical-align: top;\n",
       "    }\n",
       "\n",
       "    .dataframe thead th {\n",
       "        text-align: right;\n",
       "    }\n",
       "</style>\n",
       "<table border=\"1\" class=\"dataframe\">\n",
       "  <thead>\n",
       "    <tr style=\"text-align: right;\">\n",
       "      <th></th>\n",
       "      <th></th>\n",
       "      <th>Mean</th>\n",
       "      <th>Median</th>\n",
       "      <th>Mode</th>\n",
       "    </tr>\n",
       "  </thead>\n",
       "  <tbody>\n",
       "    <tr>\n",
       "      <th></th>\n",
       "      <td>Original Dataset</td>\n",
       "      <td>281.2260937442375</td>\n",
       "      <td>282.51</td>\n",
       "      <td>274.15</td>\n",
       "    </tr>\n",
       "    <tr>\n",
       "      <th></th>\n",
       "      <td>Cleaned Dataset</td>\n",
       "      <td>281.29093122608015</td>\n",
       "      <td>282.525</td>\n",
       "      <td>274.15</td>\n",
       "    </tr>\n",
       "  </tbody>\n",
       "</table>\n",
       "</div>"
      ],
      "text/plain": [
       "                                  Mean   Median    Mode\n",
       "  Original Dataset   281.2260937442375   282.51  274.15\n",
       "   Cleaned Dataset  281.29093122608015  282.525  274.15"
      ]
     },
     "metadata": {},
     "output_type": "display_data"
    },
    {
     "name": "stdout",
     "output_type": "stream",
     "text": [
      "\n",
      "Interpretation : \n",
      "The statistical values of both cleaned & original datasets are SAME because the outliers have zero value. \n",
      "so there is no impact on the statistical analysis (i-e Median, Mean & Mode)\n"
     ]
    }
   ],
   "source": [
    "import statistics \n",
    "\n",
    "# Finding Mean, Median & Mode for Original Datasets\n",
    "original_median = statistics.median(df_original['temperature'])  # median for the 'temperature' \n",
    "original_mean = statistics.mean(df_original[\"temperature\"])      # mean for the 'temperature'\n",
    "original_mode = statistics.mode(df_original['temperature'])      # mode for the 'temperature'\n",
    "\n",
    "# Finding Mean, Median & Mode for Cleaned Datasets\n",
    "cleaned_median = statistics.median(df_cleaned['temperature'])    # median for the 'temperature' \n",
    "cleaned_mean = statistics.mean(df_cleaned[\"temperature\"])        # mean for the 'temperature'\n",
    "cleaned_mode = statistics.mode(df_cleaned['temperature'])        # mode for the 'temperature'\n",
    "\n",
    "# Printing stats\n",
    "stats = pd.DataFrame(np.array([['Original Dataset', original_mean, original_median, original_mode], ['Cleaned Dataset', cleaned_mean, cleaned_median, cleaned_mode]]), columns=['', 'Mean', 'Median', 'Mode'])\n",
    "blankIndex=[''] * len(stats)\n",
    "stats.index=blankIndex\n",
    "display(stats.head())\n",
    "\n",
    "# INTERPRETATION :\n",
    "# The statistical values of both cleaned & original datasets are SAME \n",
    "# because the outliers have zero value. \n",
    "# so there is no impact on the statistical analysis (i-e Median, Mean & Mode)\n",
    "print(\"\\nInterpretation : \\nThe statistical values of both cleaned & original datasets are SAME because the outliers have zero value. \\nso there is no impact on the statistical analysis (i-e Median, Mean & Mode)\")"
   ]
  },
  {
   "cell_type": "markdown",
   "metadata": {},
   "source": [
    "   (c) Compare the number of data rows before and after removing the outliers. How many data rows are removed by removing    outliers?"
   ]
  },
  {
   "cell_type": "code",
   "execution_count": 64,
   "metadata": {},
   "outputs": [
    {
     "name": "stdout",
     "output_type": "stream",
     "text": [
      "There are  10  rows removed by removing outliers\n"
     ]
    }
   ],
   "source": [
    "print('There are ', (len(df_original[\"temperature\"])-len(df_cleaned['temperature'])), ' rows removed by removing outliers' )"
   ]
  },
  {
   "cell_type": "markdown",
   "metadata": {},
   "source": [
    "### Basic Visualization (10 points)\n",
    "   (d) Visualize mean and median of \"population_density\" for non-'None' \"holiday\" values in the original dataset. Specify    the \"holiday\" values for which the mean of \"population_density\" is maximal and for which it is minimal."
   ]
  },
  {
   "cell_type": "code",
   "execution_count": 69,
   "metadata": {},
   "outputs": [
    {
     "name": "stdout",
     "output_type": "stream",
     "text": [
      "1356.0 is the maximum mean value of population density for ' New Years Day ' holiday\n",
      "535.5 is the minimum mean value of population density for ' Columbus Day ' holiday\n"
     ]
    },
    {
     "data": {
      "image/png": "[encoded data removed]",
      "text/plain": [
       "<Figure size 1152x432 with 2 Axes>"
      ]
     },
     "metadata": {},
     "output_type": "display_data"
    }
   ],
   "source": [
    "# Divide the dataset into groups on the basis of Holiday\n",
    "\n",
    "# Calculate mean of 'population_density' on group basis\n",
    "df_mean = df_original.groupby('holiday')['population_density'].mean().reset_index()\n",
    "\n",
    "# Calculate median of 'population_density' on group basis\n",
    "df_median = df_original.groupby('holiday')['population_density'].median().reset_index()\n",
    "\n",
    "# Filter the holidays value for non-'None'\n",
    "# Drop the row (instance) that have 'None' holiday value\n",
    "df_mean = df_mean[df_mean.holiday != 'None']\n",
    "df_median = df_median[df_median.holiday != 'None']\n",
    "\n",
    "# Visualize Mean of 'population_density'\n",
    "plt.figure(figsize=(16, 6))\n",
    "plt.subplot(121)\n",
    "plt.title('Mean of Population Density')\n",
    "sns.set_style('darkgrid')\n",
    "bar = sns.barplot(x=\"holiday\", y=\"population_density\", data=df_mean, palette=\"Blues_d\", ci=None)\n",
    "bar.set_xticklabels(bar.get_xticklabels(),rotation=80)\n",
    "\n",
    "# Visualize Median of 'population_density'\n",
    "plt.subplot(122)\n",
    "plt.title('Median of Population Density')\n",
    "sns.set_style('darkgrid')\n",
    "bar = sns.barplot(x=\"holiday\", y=\"population_density\", data=df_median, palette=\"Blues_d\", ci=None)\n",
    "bar.set_xticklabels(bar.get_xticklabels(),rotation=80)\n",
    "\n",
    "# Specify the \"holiday\" values for which the mean of \"population_density\" is maximal.\n",
    "print(df_mean[\"population_density\"].max(), \"is the maximum mean value of population density for '\", df_mean[\"holiday\"][df_mean[\"population_density\"].idxmax()] , \"' holiday\")\n",
    "\n",
    "# Specify the \"holiday\" values for which the mean of \"population_density\" is minimal.\n",
    "print(df_mean[\"population_density\"].min(), \"is the minimum mean value of population density for '\", df_mean[\"holiday\"][df_mean[\"population_density\"].idxmin()] , \"' holiday\")\n"
   ]
  },
  {
   "cell_type": "markdown",
   "metadata": {},
   "source": [
    "   (e) Plot the distribution of \"temperature\" in the original and cleaned datasets."
   ]
  },
  {
   "cell_type": "code",
   "execution_count": 154,
   "metadata": {},
   "outputs": [
    {
     "data": {
      "text/plain": [
       "<matplotlib.axes._subplots.AxesSubplot at 0x1c805505978>"
      ]
     },
     "execution_count": 154,
     "metadata": {},
     "output_type": "execute_result"
    },
    {
     "data": {
      "image/png": "[encoded data removed]",
      "text/plain": [
       "<Figure size 1152x432 with 2 Axes>"
      ]
     },
     "metadata": {},
     "output_type": "display_data"
    }
   ],
   "source": [
    "from scipy import stats\n",
    "\n",
    "# Distribution of 'temperature' for original datasets \n",
    "plt.figure(figsize=(16, 6))\n",
    "plt.subplot(121)\n",
    "plt.title('Distribution of \\'temperate\\' in original dataset')\n",
    "sns.distplot(df_original['temperature'])\n",
    "\n",
    "# Distribution of 'temperature' for cleaned datasets\n",
    "plt.subplot(122)\n",
    "plt.title('Distribution of \\'temperate\\' in cleaned dataset')\n",
    "sns.distplot(df_cleaned['temperature'])"
   ]
  },
  {
   "cell_type": "markdown",
   "metadata": {},
   "source": [
    "   (f) Explore the distribution of \"population_density\" and \"temperature\" together in the cleaned dataset. Specify the ranges of \"temperature\" and \"population_density\" for which the frequency of the data is the highest."
   ]
  },
  {
   "cell_type": "code",
   "execution_count": 233,
   "metadata": {},
   "outputs": [
    {
     "name": "stdout",
     "output_type": "stream",
     "text": [
      "The range of temperature for which the frequency of data is greatest is greater between 200 and 300 approximately.\n",
      "The range of population_density for which the frequency of data is greatest is greater between 100 and 7000 approximately.\n"
     ]
    },
    {
     "data": {
      "image/png": "[encoded data removed]",
      "text/plain": [
       "<Figure size 1152x432 with 1 Axes>"
      ]
     },
     "metadata": {},
     "output_type": "display_data"
    }
   ],
   "source": [
    "plt.figure(figsize=(16, 6))\n",
    "plt.title('Distributions of \\'temperature\\' and \\'population_density\\'')\n",
    "# Distribution of 'population_density' for cleaned datasets \n",
    "sns.distplot(df_cleaned['population_density'], color=\"darkblue\", label=\"Population Density\", hist=False, rug=True)\n",
    "\n",
    "# Distribution of 'temperature' for cleaned datasets\n",
    "sns.distplot(df_cleaned['temperature'], color=\"dodgerblue\", label=\"Temperature\", hist=False, rug=True)\n",
    "print('The range of temperature for which the frequency of data is greatest is greater between 200 and 300 approximately.')\n",
    "print('The range of population_density for which the frequency of data is greatest is greater between 100 and 7000 approximately.')"
   ]
  },
  {
   "cell_type": "markdown",
   "metadata": {},
   "source": [
    "## Question 2 - Decision Trees (15 points):"
   ]
  },
  {
   "cell_type": "markdown",
   "metadata": {},
   "source": [
    "   (a) Add a categorical temperature column to the cleaned dataset based on the following rules and name it                \"temperature_categorical\":\n",
    "        - temperature >= upper_quartile (third quartile) corresponding value in 'temperature_categorical' column: 'high'\n",
    "        - temperature <= lower_quartile (first quartile) corresponding value in 'temperature_categorical' column: 'low'\n",
    "        - lower_quartile < temperature < upper_quartile corresponding value in 'temperature_categorical' column: 'medium'"
   ]
  },
  {
   "cell_type": "code",
   "execution_count": 71,
   "metadata": {},
   "outputs": [],
   "source": [
    "# Calculate upper quartile of 'temperature' for cleaned dataset\n",
    "upper_quartile = df_cleaned[\"temperature\"].quantile(0.75)\n",
    "\n",
    "# Calculate upper quartile of 'temperature' for cleaned dataset\n",
    "lower_quartile = df_cleaned[\"temperature\"].quantile(0.25)\n",
    "\n",
    "temperature_categorical = []\n",
    "\n",
    "# Iterate all the values of 'temperature' \n",
    "for i in range(0,len(df_cleaned[\"temperature\"])):\n",
    "    \n",
    "    # temperature >= upper_quartile (third quartile) corresponding value in 'temperature_categorical' column: 'high'\n",
    "    if (df_cleaned.iloc[i][\"temperature\"] >= upper_quartile):\n",
    "        temperature_categorical.append(\"high\")\n",
    "    \n",
    "    # temperature <= lower_quartile (first quartile) corresponding value in 'temperature_categorical' column: 'low'\n",
    "    elif (df_cleaned.iloc[i][\"temperature\"] <= lower_quartile):\n",
    "        temperature_categorical.append(\"low\")\n",
    "        \n",
    "    # lower_quartile < temperature < upper_quartile corresponding value in 'temperature_categorical' column: 'medium'\n",
    "    elif (df_cleaned.iloc[i][\"temperature\"] > lower_quartile and df_cleaned.iloc[i][\"temperature\"] < upper_quartile):\n",
    "        temperature_categorical.append(\"medium\")\n",
    "\n",
    "# Append the new column 'temperature_categorical' in dataframe \n",
    "df_cleaned[\"temperature_categorical\"] = temperature_categorical\n",
    "\n",
    "df_cleaned.to_csv('temperature_categorical.csv')"
   ]
  },
  {
   "cell_type": "markdown",
   "metadata": {},
   "source": [
    "   (b) In the new dataset (created in Section 'a'), consider \"holiday\", \"temperature_categorical\", and \"weather_type\" as    the descriptive features and \"population_density_categorical\" as the target feature. Set the minimum number of samples  for splitting to 5000 and make a decision tree based on entropy."
   ]
  },
  {
   "cell_type": "code",
   "execution_count": 74,
   "metadata": {},
   "outputs": [
    {
     "name": "stdout",
     "output_type": "stream",
     "text": [
      "You either have not installed the 'dot' to visualize the decision tree or the reulted .pdf file is open!\n",
      "Entropy:  2.231038449600441\n"
     ]
    }
   ],
   "source": [
    "from p_decision_tree.DecisionTree import DecisionTree\n",
    "\n",
    "descriptive_features = [\"holiday\", \"temperature_categorical\", \"weather_type\"]\n",
    "target_features = \"population_density_categorical\"\n",
    "\n",
    "data_descriptive = df_cleaned[descriptive_features].values\n",
    "\n",
    "data_label = df_cleaned[target_features].values\n",
    "\n",
    "#Calling DecisionTree constructor (the last parameter is criterion which can also be \"gini\")\n",
    "decisionTree = DecisionTree(data_descriptive, descriptive_features, data_label, \"entropy\")\n",
    "\n",
    "#Here you can pass pruning features (gain_threshold and minimum_samples)\n",
    "decisionTree.id3(0,5000)\n",
    "\n",
    "#Visualizing decision tree by Graphviz\n",
    "dot = decisionTree.print_visualTree( render=True )\n",
    "\n",
    "\n",
    "print(\"Entropy: \", format(decisionTree.entropy))"
   ]
  },
  {
   "cell_type": "markdown",
   "metadata": {},
   "source": [
    "   (c) What is the best attribute (based on entropy) for splitting the tree in the second round of ID3?  "
   ]
  },
  {
   "cell_type": "markdown",
   "metadata": {},
   "source": [
    "Explanation: \n",
    "weather_type is the best attribute for splitting the tree in the second round of ID3 Algorithm because it is the second highest descriptive feature based on entropy.\n",
    "Please refer to the 'visualTree.gv' file uploaded as attachment.\n"
   ]
  },
  {
   "cell_type": "markdown",
   "metadata": {},
   "source": [
    "## Question 3 - Regression (10 points):\n",
    "\n",
    "For this question (Q3), restrict your extracted data set to the columns *holiday, temperature, rain_1h, snow_1h, clouds_percentage, date_time* and *population_density*. Drop the information on the date for *date_time* and restrict the data to time values (hour) only.\n",
    "\n",
    "We define *population_density* to be our target feature, while all other features are considered descriptive."
   ]
  },
  {
   "cell_type": "code",
   "execution_count": 128,
   "metadata": {},
   "outputs": [],
   "source": [
    "# Reading extracted data\n",
    "dataset_regression_raw = pd.read_csv('population_density_categorical.csv')\n",
    "\n",
    "# Restricting extracted data to the specified columns\n",
    "dataset_regression = dataset_regression_raw[['holiday','temperature','rain_1h', 'snow_1h', 'clouds_percentage','date_time','population_density']]\n",
    "\n",
    "# Restricting 'date_time' column to only hour values\n",
    "dataset_regression['date_time'] = pd.DatetimeIndex(dataset_regression['date_time']).hour"
   ]
  },
  {
   "cell_type": "markdown",
   "metadata": {},
   "source": [
    "   (a) Which features are suitable as an input for linear regression and which need to be modified first? Why?"
   ]
  },
  {
   "cell_type": "markdown",
   "metadata": {},
   "source": [
    "Explanation: Linear regression is unable to handle categorical features. All of our features, except 'holiday', are numerical and hence, suitable as input for linear regression. We need to modify the feature 'holiday' - convert it to a numerical feature - for using it as an input for linear regression."
   ]
  },
  {
   "cell_type": "markdown",
   "metadata": {},
   "source": [
    "   (b) Implement and briefly motivate an adequate modification. Print the resulting data set limited to the first two data rows."
   ]
  },
  {
   "cell_type": "markdown",
   "metadata": {},
   "source": [
    "Explanation: We convert 'holiday' - our categorical feature - to numerical using one-hot encoding."
   ]
  },
  {
   "cell_type": "code",
   "execution_count": 129,
   "metadata": {},
   "outputs": [
    {
     "data": {
      "text/html": [
       "<div>\n",
       "<style scoped>\n",
       "    .dataframe tbody tr th:only-of-type {\n",
       "        vertical-align: middle;\n",
       "    }\n",
       "\n",
       "    .dataframe tbody tr th {\n",
       "        vertical-align: top;\n",
       "    }\n",
       "\n",
       "    .dataframe thead th {\n",
       "        text-align: right;\n",
       "    }\n",
       "</style>\n",
       "<table border=\"1\" class=\"dataframe\">\n",
       "  <thead>\n",
       "    <tr style=\"text-align: right;\">\n",
       "      <th></th>\n",
       "      <th>temperature</th>\n",
       "      <th>rain_1h</th>\n",
       "      <th>snow_1h</th>\n",
       "      <th>clouds_percentage</th>\n",
       "      <th>date_time</th>\n",
       "      <th>population_density</th>\n",
       "      <th>Christmas Day</th>\n",
       "      <th>Columbus Day</th>\n",
       "      <th>Independence Day</th>\n",
       "      <th>Labor Day</th>\n",
       "      <th>Martin Luther King Jr Day</th>\n",
       "      <th>Memorial Day</th>\n",
       "      <th>New Years Day</th>\n",
       "      <th>None</th>\n",
       "      <th>State Fair</th>\n",
       "      <th>Thanksgiving Day</th>\n",
       "      <th>Veterans Day</th>\n",
       "      <th>Washingtons Birthday</th>\n",
       "    </tr>\n",
       "  </thead>\n",
       "  <tbody>\n",
       "    <tr>\n",
       "      <th>0</th>\n",
       "      <td>272.55</td>\n",
       "      <td>0.0</td>\n",
       "      <td>0.0</td>\n",
       "      <td>40</td>\n",
       "      <td>17</td>\n",
       "      <td>6009</td>\n",
       "      <td>0</td>\n",
       "      <td>0</td>\n",
       "      <td>0</td>\n",
       "      <td>0</td>\n",
       "      <td>0</td>\n",
       "      <td>0</td>\n",
       "      <td>0</td>\n",
       "      <td>1</td>\n",
       "      <td>0</td>\n",
       "      <td>0</td>\n",
       "      <td>0</td>\n",
       "      <td>0</td>\n",
       "    </tr>\n",
       "    <tr>\n",
       "      <th>1</th>\n",
       "      <td>288.43</td>\n",
       "      <td>0.0</td>\n",
       "      <td>0.0</td>\n",
       "      <td>75</td>\n",
       "      <td>23</td>\n",
       "      <td>1132</td>\n",
       "      <td>0</td>\n",
       "      <td>0</td>\n",
       "      <td>0</td>\n",
       "      <td>0</td>\n",
       "      <td>0</td>\n",
       "      <td>0</td>\n",
       "      <td>0</td>\n",
       "      <td>1</td>\n",
       "      <td>0</td>\n",
       "      <td>0</td>\n",
       "      <td>0</td>\n",
       "      <td>0</td>\n",
       "    </tr>\n",
       "  </tbody>\n",
       "</table>\n",
       "</div>"
      ],
      "text/plain": [
       "   temperature  rain_1h  snow_1h  clouds_percentage  date_time  \\\n",
       "0       272.55      0.0      0.0                 40         17   \n",
       "1       288.43      0.0      0.0                 75         23   \n",
       "\n",
       "   population_density  Christmas Day  Columbus Day  Independence Day  \\\n",
       "0                6009              0             0                 0   \n",
       "1                1132              0             0                 0   \n",
       "\n",
       "   Labor Day  Martin Luther King Jr Day  Memorial Day  New Years Day  None  \\\n",
       "0          0                          0             0              0     1   \n",
       "1          0                          0             0              0     1   \n",
       "\n",
       "   State Fair  Thanksgiving Day  Veterans Day  Washingtons Birthday  \n",
       "0           0                 0             0                     0  \n",
       "1           0                 0             0                     0  "
      ]
     },
     "execution_count": 129,
     "metadata": {},
     "output_type": "execute_result"
    }
   ],
   "source": [
    "# Converting 'holiday' to numerical feature using one hot encoding\n",
    "df_one_hot = pd.get_dummies(dataset_regression['holiday'])\n",
    "dataset_regression = dataset_regression.drop(columns=['holiday'])\n",
    "dataset_regression = pd.concat([dataset_regression, df_one_hot], axis=1)\n",
    "dataset_regression.head(2)"
   ]
  },
  {
   "cell_type": "markdown",
   "metadata": {},
   "source": [
    "(c) To get a first idea about our data, plot the behaviour of the target feature (population_density) over time (date_time)."
   ]
  },
  {
   "cell_type": "code",
   "execution_count": 170,
   "metadata": {},
   "outputs": [
    {
     "data": {
      "image/png": "[encoded data removed]",
      "text/plain": [
       "<Figure size 432x432 with 3 Axes>"
      ]
     },
     "metadata": {},
     "output_type": "display_data"
    }
   ],
   "source": [
    "sns.jointplot(x=\"date_time\", y=\"population_density\", data=dataset_regression, kind=\"reg\");"
   ]
  },
  {
   "cell_type": "markdown",
   "metadata": {},
   "source": [
    "   (d) Create two distinct subsets of the data. Use sampling methods as described in the lecture. You should end up with two DIFFERENT sample data sets *RegA, RegB*. Include these data sets in the submitted data set zip file. \n",
    "   \n",
    "   Which sampling methods did you choose and why? Which one do you expect to result in a better classifier?"
   ]
  },
  {
   "cell_type": "code",
   "execution_count": 131,
   "metadata": {},
   "outputs": [],
   "source": [
    "# Creating subset of data by sampling\n",
    "row_count = dataset_regression.shape[0]\n",
    "\n",
    "# RegA : Random Sampling\n",
    "dataset_regressionA = dataset_regression.sample((int)(row_count/2))\n",
    "\n",
    "# RegB : Top Sampling\n",
    "dataset_regressionB = dataset_regression[:(int)(row_count/2)]\n",
    "\n",
    "# Saving datasets to file\n",
    "dataset_regressionA.to_csv('RegA.csv')\n",
    "dataset_regressionB.to_csv('RegB.csv')"
   ]
  },
  {
   "cell_type": "markdown",
   "metadata": {},
   "source": [
    "Explanation:\n",
    "We chose the following 2 sampling methods:\n",
    "1. Random Sampling: We chose this method because it will ensure that there is no bias in the sampled data.\n",
    "2. Top Sampling: We chose this method to compare the outcome with our random sampling and see if the data was biased or not.\n",
    "\n",
    "We expect 'RegA' to result in a better classifier as it should be bias free."
   ]
  },
  {
   "cell_type": "markdown",
   "metadata": {},
   "source": [
    "   (e) Train a linear regression classifier based on each of the two sample data sets *RegA, RegB* created before."
   ]
  },
  {
   "cell_type": "code",
   "execution_count": 132,
   "metadata": {},
   "outputs": [],
   "source": [
    "# Creating and training classifiers\n",
    "def CreateTrainPredictLinearRegressionModel(df, target_feature):\n",
    "    classifier = LinearRegression()\n",
    "    descriptiveFeatures = df.drop(target_feature, axis = 1)\n",
    "    descriptiveFeaturesList = descriptiveFeatures.values.tolist()\n",
    "    targetFeatureList = df[target_feature].values.tolist()\n",
    "    classifier.fit(descriptiveFeaturesList, targetFeatureList)\n",
    "    prediction = classifier.predict(descriptiveFeaturesList)\n",
    "    return classifier, descriptiveFeatures, prediction\n",
    "\n",
    "classifierA, descriptiveFeaturesA, predictionA = CreateTrainPredictLinearRegressionModel(dataset_regressionA, 'population_density')\n",
    "classifierB, descriptiveFeaturesB, predictionB = CreateTrainPredictLinearRegressionModel(dataset_regressionB, 'population_density')"
   ]
  },
  {
   "cell_type": "markdown",
   "metadata": {},
   "source": [
    "(f) Visualize both computed regression functions in one plot each, combined with the original data set. For example, you can show a plot similar to 3(c) and insert the regression functions result."
   ]
  },
  {
   "cell_type": "code",
   "execution_count": 186,
   "metadata": {},
   "outputs": [
    {
     "data": {
      "text/plain": [
       "Text(0, 0.5, 'population_density')"
      ]
     },
     "execution_count": 186,
     "metadata": {},
     "output_type": "execute_result"
    },
    {
     "data": {
      "image/png": "[encoded data removed]",
      "text/plain": [
       "<Figure size 1152x432 with 2 Axes>"
      ]
     },
     "metadata": {},
     "output_type": "display_data"
    }
   ],
   "source": [
    "# Visualising the result of regression against original dataset\n",
    "\n",
    "# Scatter plot of RegA combined with original dataset \n",
    "plt.figure(figsize=(16, 6))\n",
    "plt.subplot(121)\n",
    "plt.title('RegA (Random Sampling): Scatter plot of \\'population_density\\' against \\'date_time\\'')\n",
    "plt.scatter(dataset_regression[['date_time']], dataset_regression[['population_density']], color = \"darkblue\", marker = \"o\", s = 100) \n",
    "plt.scatter(descriptiveFeaturesA[['date_time']], predictionA, color = \"dodgerblue\", marker = \".\", s = 100) \n",
    "plt.xlabel('date_time') \n",
    "plt.ylabel('population_density') \n",
    "#plt.title(title)\n",
    "\n",
    "# Distribution of 'temperature' for cleaned datasets\n",
    "plt.subplot(122)\n",
    "plt.title('RegB (Top Sampling): Scatter plot of \\'population_density\\' against \\'date_time\\'')\n",
    "plt.scatter(dataset_regression[['date_time']], dataset_regression[['population_density']], color = \"darkblue\", marker = \"o\", s = 100) \n",
    "plt.scatter(descriptiveFeaturesB[['date_time']], predictionB, color = \"dodgerblue\", marker = \".\", s = 100) \n",
    "plt.xlabel('date_time') \n",
    "plt.ylabel('population_density') \n",
    "#plt.title(title)"
   ]
  },
  {
   "cell_type": "markdown",
   "metadata": {},
   "source": [
    "   (g) For each of the two resulting models compute and print the mean squared error, mean absolute error and median squared error with respect to the original, non-sampled data set. Also, present plots showing the errors and squared errors."
   ]
  },
  {
   "cell_type": "code",
   "execution_count": 191,
   "metadata": {},
   "outputs": [],
   "source": [
    "# training classifiers on original dataset\n",
    "classifierA.fit(dataset_regression.drop(columns=['population_density']).values.tolist(), dataset_regression['population_density'].values.tolist())\n",
    "prediction_original = classifierA.predict(dataset_regression.drop(columns=['population_density']).values.tolist())"
   ]
  },
  {
   "cell_type": "code",
   "execution_count": 201,
   "metadata": {
    "scrolled": true
   },
   "outputs": [
    {
     "data": {
      "text/html": [
       "<div>\n",
       "<style scoped>\n",
       "    .dataframe tbody tr th:only-of-type {\n",
       "        vertical-align: middle;\n",
       "    }\n",
       "\n",
       "    .dataframe tbody tr th {\n",
       "        vertical-align: top;\n",
       "    }\n",
       "\n",
       "    .dataframe thead th {\n",
       "        text-align: right;\n",
       "    }\n",
       "</style>\n",
       "<table border=\"1\" class=\"dataframe\">\n",
       "  <thead>\n",
       "    <tr style=\"text-align: right;\">\n",
       "      <th></th>\n",
       "      <th>Dataset</th>\n",
       "      <th>Mean Squared Error</th>\n",
       "      <th>Mean Absolute Error</th>\n",
       "      <th>Median Squared Error</th>\n",
       "    </tr>\n",
       "  </thead>\n",
       "  <tbody>\n",
       "    <tr>\n",
       "      <th></th>\n",
       "      <td>Original Dataset</td>\n",
       "      <td>3413219.2027516263</td>\n",
       "      <td>1634.6300628437411</td>\n",
       "      <td>3413219.2027516263</td>\n",
       "    </tr>\n",
       "    <tr>\n",
       "      <th></th>\n",
       "      <td>RegA</td>\n",
       "      <td>3410645.888254114</td>\n",
       "      <td>1632.20642192173</td>\n",
       "      <td>2677656.9059940204</td>\n",
       "    </tr>\n",
       "    <tr>\n",
       "      <th></th>\n",
       "      <td>RegB</td>\n",
       "      <td>3418722.2237457214</td>\n",
       "      <td>1636.3335711803466</td>\n",
       "      <td>2688934.3742482904</td>\n",
       "    </tr>\n",
       "  </tbody>\n",
       "</table>\n",
       "</div>"
      ],
      "text/plain": [
       "           Dataset  Mean Squared Error Mean Absolute Error  \\\n",
       "  Original Dataset  3413219.2027516263  1634.6300628437411   \n",
       "              RegA   3410645.888254114    1632.20642192173   \n",
       "              RegB  3418722.2237457214  1636.3335711803466   \n",
       "\n",
       " Median Squared Error  \n",
       "   3413219.2027516263  \n",
       "   2677656.9059940204  \n",
       "   2688934.3742482904  "
      ]
     },
     "metadata": {},
     "output_type": "display_data"
    },
    {
     "data": {
      "text/plain": [
       "Text(0, 0.5, 'squared errors')"
      ]
     },
     "execution_count": 201,
     "metadata": {},
     "output_type": "execute_result"
    },
    {
     "data": {
      "image/png": "[encoded data removed]",
      "text/plain": [
       "<Figure size 1152x432 with 3 Axes>"
      ]
     },
     "metadata": {},
     "output_type": "display_data"
    },
    {
     "data": {
      "image/png": "[encoded data removed]",
      "text/plain": [
       "<Figure size 1152x432 with 3 Axes>"
      ]
     },
     "metadata": {},
     "output_type": "display_data"
    }
   ],
   "source": [
    "def CalculateMeanSquaredError(df, prediction):\n",
    "    return mean_squared_error(df['population_density'], prediction)\n",
    "\n",
    "def CalculateMeanAbsoluteError(df, prediction):\n",
    "    return mean_absolute_error(df['population_density'], prediction)\n",
    "\n",
    "def CalculateMedianSquaredError(df, prediction):\n",
    "    return np.median((df['population_density'] - prediction)**2)\n",
    "\n",
    "# Computing Mean Squared Errors\n",
    "original_mse = CalculateMeanSquaredError(dataset_regression, prediction_original)\n",
    "A_mse = CalculateMeanSquaredError(dataset_regressionA, predictionA)\n",
    "B_mse = CalculateMeanSquaredError(dataset_regressionB, predictionB)\n",
    "\n",
    "# Computing Mean Absolute Errors\n",
    "original_mae = CalculateMeanAbsoluteError(dataset_regression, prediction_original)\n",
    "A_mae = CalculateMeanAbsoluteError(dataset_regressionA, predictionA)\n",
    "B_mae = CalculateMeanAbsoluteError(dataset_regressionB, predictionB)\n",
    "\n",
    "# Computing Median Squared Errors\n",
    "original_medianse = CalculateMeanSquaredError(dataset_regression, prediction_original)\n",
    "A_medianse = CalculateMedianSquaredError(dataset_regressionA, predictionA)\n",
    "B_medianse = CalculateMedianSquaredError(dataset_regressionB, predictionB)\n",
    "\n",
    "stats = pd.DataFrame(np.array([['Original Dataset', original_mse, original_mae, original_medianse], ['RegA', A_mse, A_mae, A_medianse], ['RegB', B_mse, B_mae, B_medianse]]), columns=['Dataset', 'Mean Squared Error', 'Mean Absolute Error', 'Median Squared Error'])\n",
    "blankIndex=[''] * len(stats)\n",
    "stats.index=blankIndex\n",
    "display(stats.head())\n",
    "\n",
    "# Plotting squared errors\n",
    "plt.figure(figsize=(16, 6))\n",
    "plt.subplot(131)\n",
    "plt.title('Original (Non-sampled): Squared Errors')\n",
    "plt.scatter(prediction_original, (dataset_regression['population_density'] - prediction_original) ** 2, color = \"dodgerblue\", s = 10,) \n",
    "plt.hlines(y = 0, xmin = 0, xmax = 5500, linewidth = 2) \n",
    "plt.xlabel('predicted values')\n",
    "plt.ylabel('squared errors')\n",
    "plt.subplot(132)\n",
    "plt.title('RegA (Random Sampling): Squared Errors')\n",
    "plt.scatter(predictionA, (dataset_regressionA['population_density'] - predictionA) ** 2, color = \"dodgerblue\", s = 10,) \n",
    "plt.hlines(y = 0, xmin = 0, xmax = 5500, linewidth = 2) \n",
    "plt.xlabel('predicted values')\n",
    "plt.ylabel('squared errors')\n",
    "plt.subplot(133)\n",
    "plt.title('RegB (Top Sampling): Squared Errors')\n",
    "plt.scatter(predictionB, (dataset_regressionB['population_density'] - predictionB) ** 2, color = \"dodgerblue\", s = 10,) \n",
    "plt.hlines(y = 0, xmin = 0, xmax = 5500, linewidth = 2) \n",
    "plt.xlabel('predicted values')\n",
    "plt.ylabel('squared errors')\n",
    "\n",
    "\n",
    "# Plotting absolute errors\n",
    "plt.figure(figsize=(16, 6))\n",
    "plt.subplot(131)\n",
    "plt.title('Original (Non-sampled): Absolute Errors')\n",
    "plt.scatter(prediction_original, (dataset_regression['population_density'] - prediction_original), color = \"dodgerblue\", s = 10,) \n",
    "plt.hlines(y = 0, xmin = 0, xmax = 5500, linewidth = 2) \n",
    "plt.xlabel('predicted values')\n",
    "plt.ylabel('squared errors')\n",
    "plt.subplot(132)\n",
    "plt.title('RegA (Random Sampling): Absolute Errors')\n",
    "plt.scatter(predictionA, (dataset_regressionA['population_density'] - predictionA), color = \"dodgerblue\", s = 10,) \n",
    "plt.hlines(y = 0, xmin = 0, xmax = 5500, linewidth = 2) \n",
    "plt.xlabel('predicted values')\n",
    "plt.ylabel('squared errors')\n",
    "plt.subplot(133)\n",
    "plt.title('RegB (Top Sampling): Absolute Errors')\n",
    "plt.scatter(predictionB, (dataset_regressionB['population_density'] - predictionB), color = \"dodgerblue\", s = 10,) \n",
    "plt.hlines(y = 0, xmin = 0, xmax = 5500, linewidth = 2) \n",
    "plt.xlabel('predicted values')\n",
    "plt.ylabel('squared errors')"
   ]
  },
  {
   "cell_type": "markdown",
   "metadata": {},
   "source": [
    "   (h) Interpret and evaluate the two models and compare them. Why are they similar/different? Which model do you recommend and why? How do you think the applied methods could be improved to get better results?"
   ]
  },
  {
   "cell_type": "markdown",
   "metadata": {},
   "source": [
    "Explanation:\n",
    "The two regression models are quite similar in performance, given the close proximity of their error values. \n",
    "From the above, we can infer that their similarity must be due to their being no bias in the data, which is why random sampling and top sampling are yielding almost the same results.\n",
    "\n",
    "We recommend model 'A' as it has slightly better values for the computed errors.\n",
    "\n",
    "To improve the results, we could:\n",
    "1. Perform normalization on the data\n",
    "2. Remove outliers, if any\n",
    "3. Perform stratified sampling"
   ]
  },
  {
   "cell_type": "markdown",
   "metadata": {},
   "source": [
    "## Question 4 - Support Vector Machines (10 points):\n",
    "\n",
    "For this question (Q4), restrict your extracted data set to the columns *holiday, temperature, rain_1h, snow_1h, clouds_percentage, date_time* and *population_density_categorical*. For *date_time*, drop the information on the date and restrict the data to time values only.\n",
    "We define *population_density_categorical* to be our target feature, while all other features are considered descriptive.\n"
   ]
  },
  {
   "cell_type": "code",
   "execution_count": 249,
   "metadata": {},
   "outputs": [],
   "source": [
    "# Reading extracted data\n",
    "dataset_svm_raw = pd.read_csv('population_density_categorical.csv')\n",
    "\n",
    "# Restricting extracted data to the specified columns\n",
    "dataset_svm = dataset_svm_raw[['holiday','temperature','rain_1h', 'snow_1h', 'clouds_percentage','date_time','population_density_categorical']]\n",
    "\n",
    "# Restricting 'date_time' column to only hour values\n",
    "dataset_svm['date_time'] = pd.DatetimeIndex(dataset_svm['date_time']).hour"
   ]
  },
  {
   "cell_type": "markdown",
   "metadata": {},
   "source": [
    "   (a) Which features are suitable as an input for SVM and which need to be modified first? Modify the data as needed and provide a brief explanation."
   ]
  },
  {
   "cell_type": "code",
   "execution_count": 250,
   "metadata": {},
   "outputs": [],
   "source": [
    "# Converting 'holiday' to numerical feature using one hot encoding\n",
    "df_one_hot = pd.get_dummies(dataset_svm['holiday'])\n",
    "dataset_svm = dataset_svm.drop(columns=['holiday'])\n",
    "dataset_svm = pd.concat([dataset_svm, df_one_hot], axis=1)"
   ]
  },
  {
   "cell_type": "markdown",
   "metadata": {},
   "source": [
    "Explanation:\n",
    "SVM requires that the input features be numerical. All of our features, except 'holiday', are numerical and hence, suitable as input for SVM. We need to modify the feature 'holiday' - convert it to a numerical feature - for using it."
   ]
  },
  {
   "cell_type": "markdown",
   "metadata": {},
   "source": [
    "   (b) Divide the data set into a training set *svmTrain* and a test set *svmTest* and briefly motivate your division      strategy. Include these data sets in the data set zip file you submit. \n",
    "   \n",
    "   Hint: Training the SVMs will take longer for a large training set!"
   ]
  },
  {
   "cell_type": "code",
   "execution_count": 251,
   "metadata": {},
   "outputs": [],
   "source": [
    "# Dividing the dataset into training and testing subsets\n",
    "descriptiveFeatures = dataset_svm.drop('population_density_categorical', axis=1)\n",
    "svmTrain_descriptive, svmTest_descriptive, svmTrain_target, svmTest_target = train_test_split(descriptiveFeatures, dataset_svm['population_density_categorical'], train_size = 7000, test_size=3000, stratify=targetFeatureList)\n",
    "\n",
    "# Concatenating descriptive and target features\n",
    "svmTrainDataset = pd.concat([svmTrain_descriptive, svmTrain_target], axis=1)\n",
    "svmTestDataset = pd.concat([svmTest_descriptive, svmTest_target], axis=1)\n",
    "\n",
    "# Exporting datasets to file\n",
    "svmTrainDataset.to_csv('SVM_train_dataset.csv')\n",
    "svmTestDataset.to_csv('SVM_test_dataset.csv')"
   ]
  },
  {
   "cell_type": "markdown",
   "metadata": {},
   "source": [
    "Explanation:\n",
    "We have used random sampling to divide the data into training and testing sets using 70:30 ratio."
   ]
  },
  {
   "cell_type": "markdown",
   "metadata": {},
   "source": [
    "   (c) Use the training set to train 3 different SVMs with different combinations of the parameters. Use at least two distinct values for the parameters *kernel* and *C*."
   ]
  },
  {
   "cell_type": "code",
   "execution_count": 252,
   "metadata": {},
   "outputs": [],
   "source": [
    "# Creating and training SVMS\n",
    "def CreateSVMAndGivePrediction(_C, _kernel, desc_train, target_train, desc_test):\n",
    "    SVM = SVC(C=_C, kernel=_kernel)\n",
    "    SVM.fit(desc_train, target_train)\n",
    "    return SVM, SVM.predict(desc_test)\n",
    "\n",
    "SVM1, SVM1_prediction = CreateSVMAndGivePrediction(1, 'linear', svmTrain_descriptive, svmTrain_target, svmTest_descriptive)\n",
    "SVM2, SVM2_prediction = CreateSVMAndGivePrediction(0.75, 'poly', svmTrain_descriptive, svmTrain_target, svmTest_descriptive)\n",
    "SVM3, SVM3_prediction = CreateSVMAndGivePrediction(0.5, 'sigmoid', svmTrain_descriptive, svmTrain_target, svmTest_descriptive)"
   ]
  },
  {
   "cell_type": "markdown",
   "metadata": {},
   "source": [
    "   (d) Compute and print the mean accurracy and classification report of the trained SVMs with respect to the test set (as shown in instruction)."
   ]
  },
  {
   "cell_type": "code",
   "execution_count": 253,
   "metadata": {},
   "outputs": [
    {
     "name": "stdout",
     "output_type": "stream",
     "text": [
      "SVM1 C = 1, kernel = linear\n",
      "Accuracy: 0.5623333333333334 \n",
      "\n",
      "Classification Report:\n",
      "               precision    recall  f1-score   support\n",
      "\n",
      "        high       0.60      0.76      0.67       846\n",
      "         low       0.40      0.24      0.30       471\n",
      "      medium       0.35      0.39      0.37       565\n",
      "   very high       0.00      0.00      0.00       299\n",
      "    very low       0.70      0.86      0.77       819\n",
      "\n",
      "    accuracy                           0.56      3000\n",
      "   macro avg       0.41      0.45      0.42      3000\n",
      "weighted avg       0.49      0.56      0.52      3000\n",
      " \n",
      "\n",
      "SVM2 C = 0.75, kernel = poly\n",
      "Accuracy: 0.6126666666666667 \n",
      "\n",
      "Classification Report:\n",
      "               precision    recall  f1-score   support\n",
      "\n",
      "        high       0.54      0.84      0.66       846\n",
      "         low       0.50      0.49      0.49       471\n",
      "      medium       0.53      0.35      0.43       565\n",
      "   very high       0.50      0.01      0.03       299\n",
      "    very low       0.82      0.84      0.83       819\n",
      "\n",
      "    accuracy                           0.61      3000\n",
      "   macro avg       0.58      0.51      0.49      3000\n",
      "weighted avg       0.61      0.61      0.57      3000\n",
      " \n",
      "\n",
      "SVM3 C = 0.5, kernel = sigmoid\n",
      "Accuracy: 0.282 \n",
      "\n",
      "Classification Report:\n",
      "               precision    recall  f1-score   support\n",
      "\n",
      "        high       0.28      1.00      0.44       846\n",
      "         low       0.00      0.00      0.00       471\n",
      "      medium       0.00      0.00      0.00       565\n",
      "   very high       0.00      0.00      0.00       299\n",
      "    very low       0.00      0.00      0.00       819\n",
      "\n",
      "    accuracy                           0.28      3000\n",
      "   macro avg       0.06      0.20      0.09      3000\n",
      "weighted avg       0.08      0.28      0.12      3000\n",
      " \n",
      "\n"
     ]
    }
   ],
   "source": [
    "# Printing accuracy and classification report\n",
    "from sklearn.metrics import classification_report\n",
    "\n",
    "def PrintAccuracyAndClassificationReport(title, desc_test, target_test, SVM_prediction, SVM):\n",
    "    print(title)\n",
    "    print('Accuracy:', SVM.score(desc_test, target_test), '\\n')\n",
    "    print('Classification Report:\\n', classification_report(target_test, SVM_prediction), '\\n')  \n",
    "\n",
    "PrintAccuracyAndClassificationReport('SVM1 C = 1, kernel = linear', svmTest_descriptive, svmTest_target, SVM1_prediction, SVM1)\n",
    "PrintAccuracyAndClassificationReport('SVM2 C = 0.75, kernel = poly', svmTest_descriptive, svmTest_target, SVM2_prediction, SVM2)\n",
    "PrintAccuracyAndClassificationReport('SVM3 C = 0.5, kernel = sigmoid', svmTest_descriptive, svmTest_target, SVM3_prediction, SVM3)"
   ]
  },
  {
   "cell_type": "markdown",
   "metadata": {},
   "source": [
    "   (e) Interpret and evaluate the 3 SVMs and compare them. Why are they similar/different? Which SVM do you recommend and why?"
   ]
  },
  {
   "cell_type": "markdown",
   "metadata": {},
   "source": [
    "Explanation:\n",
    "\n",
    "SVM 1 (C = 1, kernel = linear)\n",
    "Its accuracy is 50%, but for the label 'very high', precion, recall, and f1-score are all zero. \n",
    "\n",
    "SVM 2 (C = 0.75, kernel = poly)\n",
    "Its accuracy is 60%, better than SVM1, and it is also able to provide metrics for all labels in target feature.\n",
    "\n",
    "SVM 3 (C = 0.5, kernel = sigmoid)\n",
    "Its accuracy is worst of the 3 models at around 27%, and we are unable to provide metric scores for labels 'low, medium, very high, and very low. \n",
    "\n",
    "The three SVM are different due to the use of different kernels and C values - we chose 1, 0.75, and 0.5 to identify how the model behaves when we leave no room for misclassification error, when we give some leeway, and when we increase it to allow for 50% misclassification. \n",
    "\n",
    "We recommend SVM 2 that uses the 'poly' kernel with C = 0.75, as it provides best accuracy among the models, and we are able to generate metrics for all labels in target class."
   ]
  },
  {
   "cell_type": "markdown",
   "metadata": {},
   "source": [
    "## Question 5 - Neural Networks (20 points)\n",
    "In this question consider the whole dataset that you have created in the *Preprocessing of Dataset* section. The target feature is *population_density_categorical*. \n",
    "\n",
    "To avoid performance problems, use the first 4000 rows of your dataset (you will need 2000 for training and 2000 for testing)."
   ]
  },
  {
   "cell_type": "markdown",
   "metadata": {},
   "source": [
    "   (a) What are the possible inputs of your network?\n",
    "     - Show the possible extracted features.\n",
    "     - Show the number of possible patterns of inputs for the categorical data."
   ]
  },
  {
   "cell_type": "code",
   "execution_count": 86,
   "metadata": {},
   "outputs": [
    {
     "name": "stdout",
     "output_type": "stream",
     "text": [
      "The possible extracted features are : \n",
      " ['holiday', 'temperature', 'rain_1h', 'snow_1h', 'clouds_percentage', 'weather_type', 'weather_type_details', 'date_time', 'population_density']\n",
      "\n",
      "The Number of possible patterns for each input of categorical data are : \n",
      "holiday  =  9\n",
      "weather_type  =  9\n",
      "date_time  =  24\n",
      "weather_type_details  =  30\n"
     ]
    }
   ],
   "source": [
    "#path of the file\n",
    "data_url = 'population_density_categorical.csv'\n",
    "\n",
    "# read data from csv file as pandas dataframe\n",
    "df = pd.read_csv(data_url)\n",
    "\n",
    "# To avoid performance problems, select first 4000 rows \n",
    "df = df[:4000]\n",
    "\n",
    "# Extract the time from date_time feature\n",
    "df['date_time'] = [d.split()[1] for d in df['date_time']]\n",
    "\n",
    "cols = df.columns[1:-1]\n",
    "\n",
    "num_cols = df._get_numeric_data().columns\n",
    "\n",
    "features = list(cols)\n",
    "print(\"The possible extracted features are : \\n\", features)\n",
    "\n",
    "categorical_data = list(set(cols) - set(num_cols))\n",
    "print(\"\\nThe Number of possible patterns for each input of categorical data are : \")\n",
    "\n",
    "#total_input_neuron = len(cols) - len(categorical_data)\n",
    "for i in categorical_data:\n",
    "    #total_input_neuron = total_input_neuron + len(df[i].unique())\n",
    "    print(i , \" = \" , len(df[i].unique()))\n",
    "    \n",
    "#print(\"\\nTotal Number of Input Neurons are \", total_input_neuron)"
   ]
  },
  {
   "cell_type": "markdown",
   "metadata": {},
   "source": [
    "Explanation:\n",
    "The possible extracted features are the all descriptive features in the dataset.\n",
    "\n",
    "The Number of possible patterns for each input of categorical data are the number of unique values (or different type of values) that each specific feature holds."
   ]
  },
  {
   "cell_type": "markdown",
   "metadata": {},
   "source": [
    "   (b) Before using the Neural Network algorithm, do you think it provides an accurate result? Why? \n",
    "     - Your explanation should be supported by data."
   ]
  },
  {
   "cell_type": "markdown",
   "metadata": {},
   "source": [
    "Explanation:\n",
    "Yes, in my opinion, it provides accurate result, because the descriptive and target features in the dataset are discrete values (numerical or categorical), and we are not dealing with any data that is in continuous frame .\n",
    "\n",
    "If the accuracy is not good, we can perform the backpropagation and adjust the weights until maximum accuracy is achieved."
   ]
  },
  {
   "cell_type": "code",
   "execution_count": 87,
   "metadata": {},
   "outputs": [
    {
     "name": "stdout",
     "output_type": "stream",
     "text": [
      "   Unnamed: 0 holiday  temperature  rain_1h  snow_1h  clouds_percentage  \\\n",
      "1       13808    None       288.43      0.0      0.0                 75   \n",
      "2       38768    None       274.22      0.0      0.0                  1   \n",
      "3       20846    None       269.95      0.0      0.0                 90   \n",
      "4       22942    None       284.28      0.0      0.0                 90   \n",
      "\n",
      "  weather_type weather_type_details date_time  population_density  \\\n",
      "1       Clouds        broken clouds     23:00                1132   \n",
      "2        Clear         sky is clear     12:00                4585   \n",
      "3         Snow           light snow      1:00                 314   \n",
      "4      Drizzle              drizzle     20:00                3347   \n",
      "\n",
      "  population_density_categorical  \n",
      "1                       very low  \n",
      "2                           high  \n",
      "3                       very low  \n",
      "4                         medium  \n"
     ]
    }
   ],
   "source": [
    "# To show the nature(type) of data, just show some rows of the data\n",
    "# Each column have either numerical or categorical value \n",
    "print(df[1:5])"
   ]
  },
  {
   "cell_type": "markdown",
   "metadata": {},
   "source": [
    "   (c) Which features can be used for designing your network as inputs? Why?\n",
    "       - Which features should be changed (example: from categorical to numerical or numerical to categorical)? Why? \n",
    "       - Convert the features. "
   ]
  },
  {
   "cell_type": "markdown",
   "metadata": {},
   "source": [
    "Explanation:\n",
    "\n",
    "In Neural Network, each input neuron is associated with its weight and the input is multiplied with its weight to generate the output on the basis of activation function.\n",
    "The categorical values are the string values, and we can't multiply them with weight to predict the output. We need to change these string values to numerical values. For this we use different encoding mechansim. Here I am using one hot encoding."
   ]
  },
  {
   "cell_type": "code",
   "execution_count": 88,
   "metadata": {},
   "outputs": [
    {
     "name": "stdout",
     "output_type": "stream",
     "text": [
      "Following features are used as input while designing network :\n",
      "['holiday', 'temperature', 'rain_1h', 'snow_1h', 'clouds_percentage', 'weather_type', 'weather_type_details', 'date_time', 'population_density']\n",
      "\n",
      "Following categorical features in the dataset must be changed from categorical value to numerical value :\n",
      "['holiday', 'weather_type', 'date_time', 'weather_type_details']\n"
     ]
    }
   ],
   "source": [
    "#Which features can be used for designing your network as inputs? \n",
    "print(\"Following features are used as input while designing network :\")\n",
    "print(features)\n",
    "\n",
    "# Which features should be changed (example: from categorical to numerical or numerical to categorical)? Why? \n",
    "print(\"\\nFollowing categorical features in the dataset must be changed from categorical value to numerical value :\")\n",
    "print(categorical_data)\n",
    "\n",
    "# Before convert categorical to numerical \n",
    "# Separate out the Input features & Output features\n",
    "# So Encoding is only apply on Input Features \n",
    "Output = df[\"population_density_categorical\"]\n",
    "# Now dataframe 'df' only have descriptive features\n",
    "df = df.drop(\"population_density_categorical\", axis=1)\n",
    "\n",
    "# Convert Categorical to Numerical \n",
    "# Apply One Hot Encoding \n",
    "df_one_hot = pd.get_dummies(df)\n",
    "# Here dataframe 'df_one_hot' have all the descriptive features after one-hot-encoding\n"
   ]
  },
  {
   "cell_type": "markdown",
   "metadata": {},
   "source": [
    "   (d) Train your network with default hyperparameters and return the parameters."
   ]
  },
  {
   "cell_type": "code",
   "execution_count": 89,
   "metadata": {},
   "outputs": [
    {
     "name": "stdout",
     "output_type": "stream",
     "text": [
      "The parameters after training the network :\n",
      "MLPClassifier(activation='relu', alpha=0.0001, batch_size='auto', beta_1=0.9,\n",
      "              beta_2=0.999, early_stopping=False, epsilon=1e-08,\n",
      "              hidden_layer_sizes=(100,), learning_rate='constant',\n",
      "              learning_rate_init=0.001, max_iter=200, momentum=0.9,\n",
      "              n_iter_no_change=10, nesterovs_momentum=True, power_t=0.5,\n",
      "              random_state=None, shuffle=True, solver='adam', tol=0.0001,\n",
      "              validation_fraction=0.1, verbose=False, warm_start=False)\n"
     ]
    }
   ],
   "source": [
    "from sklearn.neural_network import MLPClassifier\n",
    "\n",
    "# the descriptive feature \n",
    "X = df_one_hot[list(df_one_hot.columns[1:])]\n",
    "\n",
    "# the target feature\n",
    "Y = Output\n",
    "\n",
    "# The total dataset have 4000 rows\n",
    "# Now split the whole dataset into halves\n",
    "# First 2000 rows are selected for training the Neural Network\n",
    "# Last 2000 rows are selected for training the Neural Network\n",
    "X_train, X_test, y_train, y_test = train_test_split(X,Y,test_size=0.5)\n",
    "\n",
    "nn = MLPClassifier()\n",
    "# Train the dataset \n",
    "parameters = nn.fit(X_train,y_train)\n",
    "print(\"The parameters after training the network :\")\n",
    "print(parameters)"
   ]
  },
  {
   "cell_type": "markdown",
   "metadata": {},
   "source": [
    "   (e) Try to find an optimized number of hidden layers and nodes. \n",
    "      - Start with default numbers and then at least go with one number above and one number below the default.\n",
    "      - Use the 2000 rows of the data for training.\n",
    "      - What are the optimized numbers of hidden layers and nodes that you have found?"
   ]
  },
  {
   "cell_type": "code",
   "execution_count": 203,
   "metadata": {},
   "outputs": [
    {
     "name": "stdout",
     "output_type": "stream",
     "text": [
      "The default number of Hidden Layers are  1 with nodes  100\n",
      "Default Accuracy = 0.6695\n",
      "\n",
      "With 2 Hidden Layers and each have 100 node\n",
      "Accuracy = 0.88\n",
      "\n",
      "With 3 Hidden Layers and each have 100 node\n",
      "Accuracy = 0.874\n",
      "\n",
      "With 3 Hidden Layers with each have 100,101,102 node\n",
      "Accuracy = 0.921\n",
      "\n",
      "With 3 Hidden Layers with each have 101,102,103 node\n",
      "Accuracy = 0.8105\n",
      "\n",
      "Optimized Number of Hidden Layer :  3\n"
     ]
    }
   ],
   "source": [
    "import sklearn.metrics as metric\n",
    "\n",
    "print(\"The default number of Hidden Layers are \", len(parameters.hidden_layer_sizes), \"with nodes \" ,parameters.hidden_layer_sizes[0])\n",
    "\n",
    "nn = MLPClassifier()\n",
    "nn.fit(X_train,y_train)\n",
    "y_pred_default = nn.predict(X_test)                      # prediction \n",
    "accuracy_default = metric.accuracy_score(np.array(y_test).flatten(), np.array(y_pred_default).flatten(), normalize=True)\n",
    "print('Default Accuracy =',accuracy_default) \n",
    "\n",
    "# pre_accuracy is the previous accuracy \n",
    "# Declare here to used for comparsion in each model\n",
    "pre_accuracy = accuracy_default\n",
    "\n",
    "# Declare to store the optimized hidden layer\n",
    "optimized_hidden_layer = parameters.hidden_layer_sizes\n",
    "\n",
    "########### 1) Let takes 2 Hidden Layer, Each have 100 neurons #################\n",
    "size = (100,100)\n",
    "print(\"\\nWith 2 Hidden Layers and each have 100 node\")\n",
    "nn_above = MLPClassifier(hidden_layer_sizes=size)\n",
    "nn_above.fit(X_train,y_train)\n",
    "y_pred_above = nn_above.predict(X_test)                  # prediction \n",
    "accuracy_above = metric.accuracy_score(np.array(y_test).flatten(), np.array(y_pred_above).flatten(), normalize=True)\n",
    "print('Accuracy =',accuracy_above)\n",
    "\n",
    "# Compare the accuracy with previous model\n",
    "# If accuracy is greater, then this model have the optimized number of layers\n",
    "if (accuracy_above > pre_accuracy):\n",
    "    optimized_hidden_layer = size\n",
    "    pre_accuracy = accuracy_above\n",
    "\n",
    "########### 2) Let takes 3 Hidden Layer, Each have 100 neurons #################\n",
    "size = (100,100,100)\n",
    "print(\"\\nWith 3 Hidden Layers and each have 100 node\")\n",
    "nn_above = MLPClassifier(hidden_layer_sizes=size)\n",
    "nn_above.fit(X_train,y_train)\n",
    "y_pred_above = nn_above.predict(X_test)                      # prediction \n",
    "accuracy_above = metric.accuracy_score(np.array(y_test).flatten(), np.array(y_pred_above).flatten(), normalize=True)\n",
    "print('Accuracy =',accuracy_above)\n",
    "\n",
    "# Again Compare the accuracy with previous model\n",
    "# If accuracy is greater, then this model have the optimized number of layers\n",
    "if (accuracy_above > pre_accuracy):\n",
    "    optimized_hidden_layer = size\n",
    "    pre_accuracy = accuracy_above\n",
    "\n",
    "########### 3) Let takes 3 Hidden Layer, Each have 100,101,102 neurons  #################\n",
    "size = (100,101,102)\n",
    "print(\"\\nWith 3 Hidden Layers with each have 100,101,102 node\")\n",
    "nn_above = MLPClassifier(hidden_layer_sizes=size)\n",
    "nn_above.fit(X_train,y_train)\n",
    "y_pred_above = nn_above.predict(X_test)                      # prediction \n",
    "accuracy_above = metric.accuracy_score(np.array(y_test).flatten(), np.array(y_pred_above).flatten(), normalize=True)\n",
    "print('Accuracy =',accuracy_above)\n",
    "\n",
    "# Again Compare the accuracy with previous model\n",
    "# If accuracy is greater, then this model have the optimized number of layers\n",
    "if (accuracy_above > pre_accuracy):\n",
    "    optimized_hidden_layer = size\n",
    "    pre_accuracy = accuracy_above\n",
    "    \n",
    "########### 4) Let takes 3 Hidden Layer, Each have 101,102,103 neurons  #################\n",
    "size = (101,102,103)\n",
    "print(\"\\nWith 3 Hidden Layers with each have 101,102,103 node\")\n",
    "nn_above = MLPClassifier(hidden_layer_sizes=size)\n",
    "nn_above.fit(X_train,y_train)\n",
    "y_pred_above = nn_above.predict(X_test)                      # prediction \n",
    "accuracy_above = metric.accuracy_score(np.array(y_test).flatten(), np.array(y_pred_above).flatten(), normalize=True)\n",
    "print('Accuracy =',accuracy_above)\n",
    "\n",
    "# Again Compare the accuracy with previous model\n",
    "# If accuracy is greater, then this model have the optimized number of layers\n",
    "if (accuracy_above > pre_accuracy):\n",
    "    optimized_hidden_layer = size\n",
    "    pre_accuracy = accuracy_above\n",
    "    \n",
    "print(\"\\nOptimized Number of Hidden Layer : \", len(optimized_hidden_layer))\n"
   ]
  },
  {
   "cell_type": "code",
   "execution_count": 234,
   "metadata": {},
   "outputs": [
    {
     "name": "stdout",
     "output_type": "stream",
     "text": [
      "Optimized Number of Nodes in the Hidden Layer :  (100, 101, 102)\n"
     ]
    }
   ],
   "source": [
    "# Your code: (number of nodes in the hidden layer)\n",
    "\n",
    "print(\"Optimized Number of Nodes in the Hidden Layer : \",optimized_hidden_layer)"
   ]
  },
  {
   "cell_type": "code",
   "execution_count": 235,
   "metadata": {},
   "outputs": [
    {
     "name": "stdout",
     "output_type": "stream",
     "text": [
      "Accuracy = 0.8105\n"
     ]
    }
   ],
   "source": [
    "# Your code: (optimized network) \n",
    "\n",
    "nn = MLPClassifier(hidden_layer_sizes = optimized_hidden_layer)\n",
    "nn.fit(X_train,y_train)\n",
    "y_pred = nn.predict(X_test)                      # prediction \n",
    "accuracy = metric.accuracy_score(np.array(y_test).flatten(), np.array(y_pred).flatten(), normalize=True)\n",
    "print('Accuracy =',accuracy_above)"
   ]
  },
  {
   "cell_type": "markdown",
   "metadata": {},
   "source": [
    "Explanation:\n",
    "With reference to the above accuracy results, the optimized network has 3 hidden layers, and hidden nodes in each layer are 101, 102, and 103, because it gives higher accuracy score as compared to default (at least)."
   ]
  },
  {
   "cell_type": "markdown",
   "metadata": {},
   "source": [
    "   (f) Try to train your model with one linear activation function and one non-linear activation function. Use the default number of hidden layers and nodes.\n",
    "     - Name the functions and explain how the results are different and why. \n",
    "     - You can use evaluation metrics to show which activation function works better for this data set.\n",
    "     - Use the 2000 rows of the data for training."
   ]
  },
  {
   "cell_type": "code",
   "execution_count": 93,
   "metadata": {},
   "outputs": [
    {
     "name": "stdout",
     "output_type": "stream",
     "text": [
      "Accuracy with linear activation function i-e identity = 0.5035\n"
     ]
    }
   ],
   "source": [
    "# Your code: (linear activation function):\n",
    "\n",
    "import sklearn.metrics as metric\n",
    "import numpy as np\n",
    "\n",
    "# identity is the linear activation function\n",
    "linear_act_func = MLPClassifier(activation = 'identity')\n",
    "linear_act_func.fit(X_train,y_train)\n",
    "\n",
    "\n",
    "y_pred_linear = linear_act_func.predict(X_test)                      # prediction\n",
    "accuracy_linear = metric.accuracy_score(np.array(y_test).flatten(), np.array(y_pred_linear).flatten(), normalize=True)\n",
    "print('Accuracy with linear activation function i-e identity =',accuracy_linear)   "
   ]
  },
  {
   "cell_type": "code",
   "execution_count": 94,
   "metadata": {},
   "outputs": [
    {
     "name": "stdout",
     "output_type": "stream",
     "text": [
      "Accuracy with non-linear activation function i-e logistic = 0.918\n"
     ]
    }
   ],
   "source": [
    "# Your code: (non-linear activation function):\n",
    "\n",
    "# logistic is the sigmoid non-linear activation function \n",
    "non_linear_act_func = MLPClassifier(activation = 'logistic')\n",
    "non_linear_act_func.fit(X_train,y_train)\n",
    "\n",
    "\n",
    "y_pred_non_linear = non_linear_act_func.predict(X_test)                      # prediction\n",
    "accuracy_non_linear = metric.accuracy_score(np.array(y_test).flatten(), np.array(y_pred_non_linear).flatten(), normalize=True)\n",
    "print('Accuracy with non-linear activation function i-e logistic =',accuracy_non_linear)"
   ]
  },
  {
   "cell_type": "markdown",
   "metadata": {},
   "source": [
    "Explanation:\n",
    "The accuracy with non-linear activation function is greater, which implies that the target feature is not linearly dependent on descriptive features. That's why the model predicts the target values with higher accuracy on the basis of unseen dataset."
   ]
  },
  {
   "cell_type": "markdown",
   "metadata": {},
   "source": [
    "## Question 6 - Evaluation (10 Points)"
   ]
  },
  {
   "cell_type": "markdown",
   "metadata": {},
   "source": [
    "   (a) Consider one of the models in question 4 (c) of your choice, one neural network with optimized number of hidden layers and nodes from question 5 (e), and the neural network with non-linear activation function from question 5 (f), for a total of *three* models, together with their respective datasets. Compute the following metrics for a 3-fold cross validation performed on each model:"
   ]
  },
  {
   "cell_type": "markdown",
   "metadata": {},
   "source": [
    "- Confusion matrices on the training data (sum cell-by-cell the results of each fold)"
   ]
  },
  {
   "cell_type": "code",
   "execution_count": 12,
   "metadata": {},
   "outputs": [],
   "source": [
    "from sklearn.model_selection import cross_val_predict\n",
    "from sklearn.metrics import confusion_matrix\n",
    "from sklearn.model_selection import KFold"
   ]
  },
  {
   "cell_type": "code",
   "execution_count": 257,
   "metadata": {},
   "outputs": [],
   "source": [
    "def Create3FoldData(svm_d, svm_t): \n",
    "    kf = KFold(n_splits=3)\n",
    "    kf.get_n_splits(svm_d)\n",
    "\n",
    "    k = 0\n",
    "    svm_train_descriptive = []\n",
    "    svm_train_target = []\n",
    "    svm_test_descriptive = []\n",
    "    svm_test_target = []\n",
    "\n",
    "    for train_index, test_index in kf.split(svm_d):\n",
    "        train_d = []\n",
    "        train_t = []\n",
    "        for index in train_index:\n",
    "            train_d.append(svm_d.iloc[index])\n",
    "            train_t.append(svm_t.iloc[index])\n",
    "        svm_train_descriptive.append(train_d)\n",
    "        svm_train_target.append(train_t)\n",
    "\n",
    "        test_d = []\n",
    "        test_t = []\n",
    "        for index in test_index:\n",
    "            test_d.append(svm_d.iloc[index])\n",
    "            test_t.append(svm_t.iloc[index])\n",
    "        svm_test_descriptive.append(test_d)\n",
    "        svm_test_target.append(test_t)\n",
    "        k += 1\n",
    "    return svm_train_descriptive, svm_test_descriptive, svm_train_target, svm_test_target\n",
    "\n",
    "def Create3FoldDataForANN(nn_d, nn_t): \n",
    "    kf = KFold(n_splits=3)\n",
    "    kf.get_n_splits(nn_d)\n",
    "\n",
    "    k = 0\n",
    "    nn_train_descriptive = []\n",
    "    nn_train_target = []\n",
    "    nn_test_descriptive = []\n",
    "    nn_test_target = []\n",
    "\n",
    "    for train_index, test_index in kf.split(nn_d):\n",
    "        train_d = []\n",
    "        train_t = []\n",
    "        for index in train_index:\n",
    "            train_d.append(nn_d.iloc[index])\n",
    "            train_t.append(nn_t.iloc[index])\n",
    "        nn_train_descriptive.append(train_d)\n",
    "        nn_train_target.append(train_t)\n",
    "\n",
    "        test_d = []\n",
    "        test_t = []\n",
    "        for index in test_index:\n",
    "            test_d.append(nn_d.iloc[index])\n",
    "            test_t.append(nn_t.iloc[index])\n",
    "        nn_test_descriptive.append(test_d)\n",
    "        nn_test_target.append(test_t)\n",
    "        k += 1\n",
    "    return nn_train_descriptive, nn_test_descriptive, nn_train_target, nn_test_target"
   ]
  },
  {
   "cell_type": "markdown",
   "metadata": {},
   "source": [
    "### SVM: Confusion Matrices on Training Set"
   ]
  },
  {
   "cell_type": "code",
   "execution_count": 258,
   "metadata": {},
   "outputs": [],
   "source": [
    "# Splitting the data into training and testing sets for k-fold validation\n",
    "svmTrain_descriptive_train, svmTrain_descriptive_test, svmTrain_target_train, svmTrain_target_test = Create3FoldData(svmTrain_descriptive, svmTrain_target)\n",
    "svmTest_descriptive_train, svmTest_descriptive_test, svmTest_target_train, svmTest_target_test = Create3FoldData(svmTest_descriptive, svmTest_target)"
   ]
  },
  {
   "cell_type": "code",
   "execution_count": 259,
   "metadata": {},
   "outputs": [],
   "source": [
    "# Fitting the model using training data\n",
    "\n",
    "svmTrain_prediction = []\n",
    "for i in range(len(svmTrain_descriptive_train)):\n",
    "    SVM2.fit(svmTrain_descriptive_train[i], svmTrain_target_train[i])\n",
    "    _svm_train_prediction = SVM2.predict(svmTrain_descriptive_test[i])\n",
    "    svmTrain_prediction.append(_svm_train_prediction)"
   ]
  },
  {
   "cell_type": "code",
   "execution_count": 260,
   "metadata": {},
   "outputs": [
    {
     "name": "stdout",
     "output_type": "stream",
     "text": [
      "SVM Confusion Matrix on Training Data [k= 1 ]\n",
      "[[542  25  85   0  17]\n",
      " [ 67 180  43   0  71]\n",
      " [205  78 140   0  27]\n",
      " [187   7  40   1  12]\n",
      " [ 20  65   1   0 521]]\n",
      "SVM Confusion Matrix on Training Data [k= 2 ]\n",
      "[[538  31  55  10   2]\n",
      " [ 68 189  65   1  58]\n",
      " [190  56 155   1  17]\n",
      " [184   8  19   8   0]\n",
      " [ 19  84   0   5 570]]\n",
      "SVM Confusion Matrix on Training Data [k= 3 ]\n",
      "[[550  22  71   0  25]\n",
      " [ 57 180  42   0  78]\n",
      " [202  49 172   0  27]\n",
      " [197   6  22   0   7]\n",
      " [ 22  84   3   0 517]]\n",
      "SVM Confusion Matrix on Training Data for All Folds (summed cell-by-cell)\n",
      "[[1.630e+03 7.800e+01 2.110e+02 1.000e+01 4.400e+01]\n",
      " [1.920e+02 5.490e+02 1.500e+02 1.000e+00 2.070e+02]\n",
      " [5.970e+02 1.830e+02 4.670e+02 1.000e+00 7.100e+01]\n",
      " [5.680e+02 2.100e+01 8.100e+01 9.000e+00 1.900e+01]\n",
      " [6.100e+01 2.330e+02 4.000e+00 5.000e+00 1.608e+03]]\n"
     ]
    }
   ],
   "source": [
    "# Creating confusion matrix for each fold and summing cell-by-cell\n",
    "\n",
    "cm = np.zeros((5, 5))\n",
    "for i in range(len(svmTrain_prediction)):\n",
    "    print('SVM Confusion Matrix on Training Data [k=', i + 1, ']')\n",
    "    _cm = confusion_matrix(svmTrain_target_test[i], svmTrain_prediction[i])\n",
    "    print(_cm)\n",
    "    cm = np.add(cm, _cm)\n",
    "print('SVM Confusion Matrix on Training Data for All Folds (summed cell-by-cell)')\n",
    "print(cm)"
   ]
  },
  {
   "cell_type": "markdown",
   "metadata": {},
   "source": [
    "### ANN: Confusion Matrices on Training Set"
   ]
  },
  {
   "cell_type": "code",
   "execution_count": 242,
   "metadata": {},
   "outputs": [],
   "source": [
    "nn_train_descriptive_train, nn_test_descriptive_train, nn_train_target_train, nn_test_target_train = Create3FoldDataForANN(X_train, y_train)\n",
    "nn_train_descriptive_test, nn_test_descriptive_test, nn_train_target_test, nn_test_target_test = Create3FoldDataForANN(X_test, y_test)\n",
    "\n",
    "# NonLinear Activation Function\n",
    "# fitting the model using training data\n",
    "nn_train_non_linear_prediction = []\n",
    "for i in range(len(nn_train_descriptive_train)):\n",
    "    non_linear_act_func.fit(nn_train_descriptive_train[i], nn_train_target_train[i])\n",
    "    _y_pred_non_linear_train = non_linear_act_func.predict(nn_test_descriptive_train[i])\n",
    "    nn_train_non_linear_prediction.append(_y_pred_non_linear_train)\n",
    "    \n",
    "# Optimized Network\n",
    "# fitting the model using training data\n",
    "nn_train_optimized_prediction = []\n",
    "for i in range(len(nn_train_descriptive_train)):\n",
    "    nn.fit(nn_train_descriptive_train[i], nn_train_target_train[i])\n",
    "    _y_pred_optimized_train = nn.predict(nn_test_descriptive_train[i])\n",
    "    nn_train_optimized_prediction.append(_y_pred_optimized_train)\n"
   ]
  },
  {
   "cell_type": "code",
   "execution_count": 243,
   "metadata": {},
   "outputs": [
    {
     "name": "stdout",
     "output_type": "stream",
     "text": [
      "------------------------------------------------------------------------------------------\n",
      "ANN (non-linear) Confusion Matrix on Training Data [k= 1 ]\n",
      "[[185   0   2   4   0]\n",
      " [  0 108   9   0   2]\n",
      " [ 11   6  99   0   0]\n",
      " [ 14   0   0  58   0]\n",
      " [  0   2   0   0 167]]\n",
      "ANN (non-linear) Confusion Matrix on Training Data [k= 2 ]\n",
      "[[174   0   2  29   0]\n",
      " [  0 100   6   0   3]\n",
      " [ 21   6  89   0   0]\n",
      " [  0   0   0  64   0]\n",
      " [  0   2   0   0 171]]\n",
      "ANN (non-linear) Confusion Matrix on Training Data [k= 3 ]\n",
      "[[167   0   7  25   0]\n",
      " [  0  85  11   0   3]\n",
      " [ 11   0 103   0   0]\n",
      " [  1   0   0  66   0]\n",
      " [  0   0   0   0 187]]\n",
      "ANN (non-linear) Confusion Matrix on Training Data for All Folds (summed cell-by-cell)\n",
      "[[526.   0.  11.  58.   0.]\n",
      " [  0. 293.  26.   0.   8.]\n",
      " [ 43.  12. 291.   0.   0.]\n",
      " [ 15.   0.   0. 188.   0.]\n",
      " [  0.   4.   0.   0. 525.]]\n",
      "------------------------------------------------------------------------------------------\n",
      "ANN (optimized) Confusion Matrix on Training Data [k= 1 ]\n",
      "[[ 31   0  36 124   0]\n",
      " [  0 111   7   0   1]\n",
      " [  3   7 105   1   0]\n",
      " [  0   0   0  72   0]\n",
      " [  0   4   0   0 165]]\n",
      "ANN (optimized) Confusion Matrix on Training Data [k= 2 ]\n",
      "[[  0   0   0 205   0]\n",
      " [  0 109   0   0   0]\n",
      " [  0  59   0  57   0]\n",
      " [  0   0   0  64   0]\n",
      " [  0   9   0   0 164]]\n",
      "ANN (optimized) Confusion Matrix on Training Data [k= 3 ]\n",
      "[[199   0   0   0   0]\n",
      " [  9  88   0   0   2]\n",
      " [113   1   0   0   0]\n",
      " [ 67   0   0   0   0]\n",
      " [  0   0   0   0 187]]\n",
      "ANN (optimized) Confusion Matrix on Training Data for All Folds (summed cell-by-cell)\n",
      "[[230.   0.  36. 329.   0.]\n",
      " [  9. 308.   7.   0.   3.]\n",
      " [116.  67. 105.  58.   0.]\n",
      " [ 67.   0.   0. 136.   0.]\n",
      " [  0.  13.   0.   0. 516.]]\n"
     ]
    }
   ],
   "source": [
    "# Creating confusion matrix for each fold and summing cell-by-cell\n",
    "\n",
    "cm = np.zeros((5, 5))\n",
    "print('------------------------------------------------------------------------------------------')\n",
    "for i in range(len(nn_train_non_linear_prediction)):\n",
    "    print('ANN (non-linear) Confusion Matrix on Training Data [k=', i + 1, ']')\n",
    "    _cm = confusion_matrix(nn_test_target_train[i], nn_train_non_linear_prediction[i])\n",
    "    print(_cm)\n",
    "    cm = np.add(cm, _cm)\n",
    "print('ANN (non-linear) Confusion Matrix on Training Data for All Folds (summed cell-by-cell)')\n",
    "print(cm)\n",
    "\n",
    "\n",
    "cm = np.zeros((5, 5))\n",
    "print('------------------------------------------------------------------------------------------')\n",
    "for i in range(len(nn_train_optimized_prediction)):\n",
    "    print('ANN (optimized) Confusion Matrix on Training Data [k=', i + 1, ']')\n",
    "    _cm = confusion_matrix(nn_test_target_train[i], nn_train_optimized_prediction[i])\n",
    "    print(_cm)\n",
    "    cm = np.add(cm, _cm)\n",
    "print('ANN (optimized) Confusion Matrix on Training Data for All Folds (summed cell-by-cell)')\n",
    "print(cm)"
   ]
  },
  {
   "cell_type": "markdown",
   "metadata": {},
   "source": [
    "- Confusion matrices on the test data (sum cell-by-cell the results of each fold)"
   ]
  },
  {
   "cell_type": "markdown",
   "metadata": {},
   "source": [
    "### SVM: Confusion Matrices on Test Set"
   ]
  },
  {
   "cell_type": "code",
   "execution_count": 261,
   "metadata": {},
   "outputs": [],
   "source": [
    "# Fitting the model using testing data\n",
    "\n",
    "svmTest_prediction = []\n",
    "for i in range(len(svmTest_descriptive_train)):\n",
    "    SVM2.fit(svmTest_descriptive_train[i], svmTest_target_train[i])\n",
    "    _svm_test_prediction = SVM2.predict(svmTest_descriptive_test[i])\n",
    "    svmTest_prediction.append(_svm_test_prediction)"
   ]
  },
  {
   "cell_type": "code",
   "execution_count": 262,
   "metadata": {},
   "outputs": [
    {
     "name": "stdout",
     "output_type": "stream",
     "text": [
      "SVM Confusion Matrix on Testing Data [k= 1 ]\n",
      "[[244   7  20   3  14]\n",
      " [ 27  69  21   0  31]\n",
      " [ 89  21  60   0   6]\n",
      " [ 95   0   8   0   3]\n",
      " [ 16  22   1   0 243]]\n",
      "SVM Confusion Matrix on Testing Data [k= 2 ]\n",
      "[[252   6  27   0   1]\n",
      " [ 30  92  20   0  28]\n",
      " [ 93  23  62   0  10]\n",
      " [ 86   2  14   0   0]\n",
      " [ 14  28   0   0 212]]\n",
      "SVM Confusion Matrix on Testing Data [k= 3 ]\n",
      "[[236   9  24   0   3]\n",
      " [ 20  79  21   4  29]\n",
      " [ 84  30  78   0   9]\n",
      " [ 73   4  11   3   0]\n",
      " [  6  27   1   3 246]]\n",
      "SVM Confusion Matrix on Testing Data for All Folds (summed cell-by-cell)\n",
      "[[732.  22.  71.   3.  18.]\n",
      " [ 77. 240.  62.   4.  88.]\n",
      " [266.  74. 200.   0.  25.]\n",
      " [254.   6.  33.   3.   3.]\n",
      " [ 36.  77.   2.   3. 701.]]\n"
     ]
    }
   ],
   "source": [
    "cm = np.zeros((5, 5))\n",
    "for i in range(len(svmTest_prediction)):\n",
    "    print('SVM Confusion Matrix on Testing Data [k=', i + 1, ']')\n",
    "    _cm = confusion_matrix(svmTest_target_test[i], svmTest_prediction[i])\n",
    "    print(_cm)\n",
    "    cm = np.add(cm, _cm)\n",
    "print('SVM Confusion Matrix on Testing Data for All Folds (summed cell-by-cell)')\n",
    "print(cm)"
   ]
  },
  {
   "cell_type": "markdown",
   "metadata": {},
   "source": [
    "### ANN: Confusion Matrices on Test Set"
   ]
  },
  {
   "cell_type": "code",
   "execution_count": 244,
   "metadata": {},
   "outputs": [],
   "source": [
    "# NonLinear Activation Function\n",
    "# fitting the model using testing data\n",
    "nn_test_non_linear_prediction = []\n",
    "for i in range(len(nn_train_descriptive_test)):\n",
    "    non_linear_act_func.fit(nn_train_descriptive_test[i], nn_train_target_test[i])\n",
    "    _y_pred_non_linear_test = non_linear_act_func.predict(nn_test_descriptive_test[i])\n",
    "    nn_test_non_linear_prediction.append(_y_pred_non_linear_test)\n",
    "    \n",
    "# Optimized Network\n",
    "# fitting the model using testing data\n",
    "nn_test_optimized_prediction = []\n",
    "for i in range(len(nn_train_descriptive_test)):\n",
    "    nn.fit(nn_train_descriptive_test[i], nn_train_target_test[i])\n",
    "    _y_pred_optimized_test = nn.predict(nn_test_descriptive_test[i])\n",
    "    nn_test_optimized_prediction.append(_y_pred_optimized_test)\n"
   ]
  },
  {
   "cell_type": "code",
   "execution_count": 245,
   "metadata": {},
   "outputs": [
    {
     "name": "stdout",
     "output_type": "stream",
     "text": [
      "------------------------------------------------------------------------------------------\n",
      "ANN (non-linear) Confusion Matrix on Testing Data [k= 1 ]\n",
      "[[153   0   1   5   0]\n",
      " [  0  90  17   0   0]\n",
      " [ 24   2 102   0   0]\n",
      " [  5   0   0  63   0]\n",
      " [  0   2   0   0 203]]\n",
      "ANN (non-linear) Confusion Matrix on Testing Data [k= 2 ]\n",
      "[[169   0   7   2   0]\n",
      " [  0  74   6   0   2]\n",
      " [  7   7 129   0   0]\n",
      " [ 25   0   0  46   0]\n",
      " [  0   0   0   0 193]]\n",
      "ANN (non-linear) Confusion Matrix on Testing Data [k= 3 ]\n",
      "[[194   0   6   6   0]\n",
      " [  0  87   7   0   1]\n",
      " [ 11   2 104   0   0]\n",
      " [ 12   0   0  59   0]\n",
      " [  0   4   0   0 173]]\n",
      "ANN (non-linear) Confusion Matrix on Testing Data for All Folds (summed cell-by-cell)\n",
      "[[516.   0.  14.  13.   0.]\n",
      " [  0. 251.  30.   0.   3.]\n",
      " [ 42.  11. 335.   0.   0.]\n",
      " [ 42.   0.   0. 168.   0.]\n",
      " [  0.   6.   0.   0. 569.]]\n",
      "------------------------------------------------------------------------------------------\n",
      "ANN (optimized) Confusion Matrix on Testing Data [k= 1 ]\n",
      "[[151   0   0   8   0]\n",
      " [  0  95  11   0   1]\n",
      " [ 43   6  79   0   0]\n",
      " [  6   0   0  62   0]\n",
      " [  0   1   0   0 204]]\n",
      "ANN (optimized) Confusion Matrix on Testing Data [k= 2 ]\n",
      "[[154   0   0  24   0]\n",
      " [  0  68  12   0   2]\n",
      " [ 44   2  97   0   0]\n",
      " [  5   0   0  66   0]\n",
      " [  0   0   0   0 193]]\n",
      "ANN (optimized) Confusion Matrix on Testing Data [k= 3 ]\n",
      "[[  0   0 201   5   0]\n",
      " [  0  30  63   0   2]\n",
      " [  0   0 117   0   0]\n",
      " [  0   0  25  46   0]\n",
      " [  0   3   0   0 174]]\n",
      "ANN (optimized) Confusion Matrix on Testing Data for All Folds (summed cell-by-cell)\n",
      "[[305.   0. 201.  37.   0.]\n",
      " [  0. 193.  86.   0.   5.]\n",
      " [ 87.   8. 293.   0.   0.]\n",
      " [ 11.   0.  25. 174.   0.]\n",
      " [  0.   4.   0.   0. 571.]]\n"
     ]
    }
   ],
   "source": [
    "# Creating confusion matrix for each fold and summing cell-by-cell\n",
    "\n",
    "cm = np.zeros((5, 5))\n",
    "print('------------------------------------------------------------------------------------------')\n",
    "for i in range(len(nn_test_non_linear_prediction)):\n",
    "    print('ANN (non-linear) Confusion Matrix on Testing Data [k=', i + 1, ']')\n",
    "    _cm = confusion_matrix(nn_test_target_test[i], nn_test_non_linear_prediction[i])\n",
    "    print(_cm)\n",
    "    cm = np.add(cm, _cm)\n",
    "print('ANN (non-linear) Confusion Matrix on Testing Data for All Folds (summed cell-by-cell)')\n",
    "print(cm)\n",
    "\n",
    "\n",
    "cm = np.zeros((5, 5))\n",
    "print('------------------------------------------------------------------------------------------')\n",
    "for i in range(len(nn_test_optimized_prediction)):\n",
    "    print('ANN (optimized) Confusion Matrix on Testing Data [k=', i + 1, ']')\n",
    "    _cm = confusion_matrix(nn_test_target_test[i], nn_test_optimized_prediction[i])\n",
    "    print(_cm)\n",
    "    cm = np.add(cm, _cm)\n",
    "print('ANN (optimized) Confusion Matrix on Testing Data for All Folds (summed cell-by-cell)')\n",
    "print(cm)"
   ]
  },
  {
   "cell_type": "markdown",
   "metadata": {},
   "source": [
    "- Precision, recall and F1-scores on the test data (give explicitly the result for each fold)"
   ]
  },
  {
   "cell_type": "markdown",
   "metadata": {},
   "source": [
    "### SVM: Precision, Recall, and F1-Scores"
   ]
  },
  {
   "cell_type": "code",
   "execution_count": 263,
   "metadata": {},
   "outputs": [],
   "source": [
    "from sklearn.metrics import accuracy_score, precision_score, f1_score, recall_score\n",
    "\n",
    "def PrintMetrics(_y_test, _y_pred):\n",
    "    for i in range(len(_y_test)):\n",
    "        print('---------------------------------------------------------------------------------------------')\n",
    "        print('For k = ', i+1)\n",
    "        print('Precision : ', precision_score(_y_test[i], _y_pred[i], average=None))\n",
    "        print('Recall : ', recall_score(_y_test[i], _y_pred[i], average=None))\n",
    "        print('F1-Score : ', f1_score(_y_test[i], _y_pred[i], average=None))\n",
    "        print('---------------------------------------------------------------------------------------------')"
   ]
  },
  {
   "cell_type": "code",
   "execution_count": 276,
   "metadata": {},
   "outputs": [
    {
     "name": "stdout",
     "output_type": "stream",
     "text": [
      "############# For Support Vector Machine ##############\n"
     ]
    },
    {
     "data": {
      "text/html": [
       "<div>\n",
       "<style scoped>\n",
       "    .dataframe tbody tr th:only-of-type {\n",
       "        vertical-align: middle;\n",
       "    }\n",
       "\n",
       "    .dataframe tbody tr th {\n",
       "        vertical-align: top;\n",
       "    }\n",
       "\n",
       "    .dataframe thead th {\n",
       "        text-align: right;\n",
       "    }\n",
       "</style>\n",
       "<table border=\"1\" class=\"dataframe\">\n",
       "  <thead>\n",
       "    <tr style=\"text-align: right;\">\n",
       "      <th></th>\n",
       "      <th>k</th>\n",
       "      <th>Metric</th>\n",
       "      <th>high</th>\n",
       "      <th>low</th>\n",
       "      <th>medium</th>\n",
       "      <th>very high</th>\n",
       "      <th>very low</th>\n",
       "    </tr>\n",
       "  </thead>\n",
       "  <tbody>\n",
       "    <tr>\n",
       "      <th></th>\n",
       "      <td>1</td>\n",
       "      <td>Precision</td>\n",
       "      <td>0.518047</td>\n",
       "      <td>0.579832</td>\n",
       "      <td>0.545455</td>\n",
       "      <td>0.000000</td>\n",
       "      <td>0.818182</td>\n",
       "    </tr>\n",
       "    <tr>\n",
       "      <th></th>\n",
       "      <td></td>\n",
       "      <td>Recall</td>\n",
       "      <td>0.847222</td>\n",
       "      <td>0.466216</td>\n",
       "      <td>0.340909</td>\n",
       "      <td>0.000000</td>\n",
       "      <td>0.861702</td>\n",
       "    </tr>\n",
       "    <tr>\n",
       "      <th></th>\n",
       "      <td></td>\n",
       "      <td>f1-score</td>\n",
       "      <td>0.642951</td>\n",
       "      <td>0.516854</td>\n",
       "      <td>0.419580</td>\n",
       "      <td>0.000000</td>\n",
       "      <td>0.839378</td>\n",
       "    </tr>\n",
       "    <tr>\n",
       "      <th></th>\n",
       "      <td>2</td>\n",
       "      <td>Precision</td>\n",
       "      <td>0.530526</td>\n",
       "      <td>0.609272</td>\n",
       "      <td>0.504065</td>\n",
       "      <td>0.000000</td>\n",
       "      <td>0.844622</td>\n",
       "    </tr>\n",
       "    <tr>\n",
       "      <th></th>\n",
       "      <td></td>\n",
       "      <td>Recall</td>\n",
       "      <td>0.881119</td>\n",
       "      <td>0.541176</td>\n",
       "      <td>0.329787</td>\n",
       "      <td>0.000000</td>\n",
       "      <td>0.834646</td>\n",
       "    </tr>\n",
       "    <tr>\n",
       "      <th></th>\n",
       "      <td></td>\n",
       "      <td>f1-score</td>\n",
       "      <td>0.662286</td>\n",
       "      <td>0.573209</td>\n",
       "      <td>0.398714</td>\n",
       "      <td>0.000000</td>\n",
       "      <td>0.839604</td>\n",
       "    </tr>\n",
       "    <tr>\n",
       "      <th></th>\n",
       "      <td>3</td>\n",
       "      <td>Precision</td>\n",
       "      <td>0.563246</td>\n",
       "      <td>0.530201</td>\n",
       "      <td>0.577778</td>\n",
       "      <td>0.300000</td>\n",
       "      <td>0.857143</td>\n",
       "    </tr>\n",
       "    <tr>\n",
       "      <th></th>\n",
       "      <td></td>\n",
       "      <td>Recall</td>\n",
       "      <td>0.867647</td>\n",
       "      <td>0.516340</td>\n",
       "      <td>0.388060</td>\n",
       "      <td>0.032967</td>\n",
       "      <td>0.869258</td>\n",
       "    </tr>\n",
       "    <tr>\n",
       "      <th></th>\n",
       "      <td></td>\n",
       "      <td>f1-score</td>\n",
       "      <td>0.683068</td>\n",
       "      <td>0.523179</td>\n",
       "      <td>0.464286</td>\n",
       "      <td>0.059406</td>\n",
       "      <td>0.863158</td>\n",
       "    </tr>\n",
       "  </tbody>\n",
       "</table>\n",
       "</div>"
      ],
      "text/plain": [
       "  k     Metric      high       low    medium  very high  very low\n",
       "  1  Precision  0.518047  0.579832  0.545455   0.000000  0.818182\n",
       "        Recall  0.847222  0.466216  0.340909   0.000000  0.861702\n",
       "      f1-score  0.642951  0.516854  0.419580   0.000000  0.839378\n",
       "  2  Precision  0.530526  0.609272  0.504065   0.000000  0.844622\n",
       "        Recall  0.881119  0.541176  0.329787   0.000000  0.834646\n",
       "      f1-score  0.662286  0.573209  0.398714   0.000000  0.839604\n",
       "  3  Precision  0.563246  0.530201  0.577778   0.300000  0.857143\n",
       "        Recall  0.867647  0.516340  0.388060   0.032967  0.869258\n",
       "      f1-score  0.683068  0.523179  0.464286   0.059406  0.863158"
      ]
     },
     "metadata": {},
     "output_type": "display_data"
    }
   ],
   "source": [
    "print('############# For Support Vector Machine ##############')\n",
    "def CreatePrecisionRow(k, _y_test, _y_pred):\n",
    "    row = []\n",
    "    row.append(k)\n",
    "    row.append('Precision')\n",
    "    _score = precision_score(_y_test, _y_pred, average=None)\n",
    "    for _sc in _score:\n",
    "        row.append(_sc)\n",
    "    return row\n",
    "\n",
    "def CreateRecallRow(k, _y_test, _y_pred):\n",
    "    row = []\n",
    "    row.append(k)\n",
    "    row.append('Recall')\n",
    "    _score = recall_score(_y_test, _y_pred, average=None)\n",
    "    for _sc in _score:\n",
    "        row.append(_sc)\n",
    "    return row\n",
    "\n",
    "def CreateF1ScoreRow(k, _y_test, _y_pred):\n",
    "    row = []\n",
    "    row.append(k)\n",
    "    row.append('f1-score')\n",
    "    _score = f1_score(_y_test, _y_pred, average=None)\n",
    "    for _sc in _score:\n",
    "        row.append(_sc)\n",
    "    return row\n",
    "data = []\n",
    "data.append(CreatePrecisionRow('1',svmTest_target_test[0], svmTest_prediction[0]))\n",
    "data.append(CreateRecallRow('',svmTest_target_test[0], svmTest_prediction[0]))\n",
    "data.append(CreateF1ScoreRow('',svmTest_target_test[0], svmTest_prediction[0]))\n",
    "data.append(CreatePrecisionRow('2',svmTest_target_test[1], svmTest_prediction[1]))\n",
    "data.append(CreateRecallRow('',svmTest_target_test[1], svmTest_prediction[1]))\n",
    "data.append(CreateF1ScoreRow('',svmTest_target_test[1], svmTest_prediction[1]))\n",
    "data.append(CreatePrecisionRow('3',svmTest_target_test[2], svmTest_prediction[2]))\n",
    "data.append(CreateRecallRow('',svmTest_target_test[2], svmTest_prediction[2]))\n",
    "data.append(CreateF1ScoreRow('',svmTest_target_test[2], svmTest_prediction[2]))\n",
    "stats = pd.DataFrame(data, columns=['k', 'Metric', 'high','low','medium','very high','very low'])\n",
    "blankIndex=[''] * len(stats)\n",
    "stats.index=blankIndex\n",
    "display(stats.head(len(stats)))"
   ]
  },
  {
   "cell_type": "markdown",
   "metadata": {},
   "source": [
    "### ANN: Precision, Recall, and F1-Scores"
   ]
  },
  {
   "cell_type": "code",
   "execution_count": 278,
   "metadata": {},
   "outputs": [
    {
     "name": "stdout",
     "output_type": "stream",
     "text": [
      "\n",
      "############# For Neural Network (Non-Linear)##############\n"
     ]
    },
    {
     "data": {
      "text/html": [
       "<div>\n",
       "<style scoped>\n",
       "    .dataframe tbody tr th:only-of-type {\n",
       "        vertical-align: middle;\n",
       "    }\n",
       "\n",
       "    .dataframe tbody tr th {\n",
       "        vertical-align: top;\n",
       "    }\n",
       "\n",
       "    .dataframe thead th {\n",
       "        text-align: right;\n",
       "    }\n",
       "</style>\n",
       "<table border=\"1\" class=\"dataframe\">\n",
       "  <thead>\n",
       "    <tr style=\"text-align: right;\">\n",
       "      <th></th>\n",
       "      <th>k</th>\n",
       "      <th>Metric</th>\n",
       "      <th>high</th>\n",
       "      <th>low</th>\n",
       "      <th>medium</th>\n",
       "      <th>very high</th>\n",
       "      <th>very low</th>\n",
       "    </tr>\n",
       "  </thead>\n",
       "  <tbody>\n",
       "    <tr>\n",
       "      <th></th>\n",
       "      <td>1</td>\n",
       "      <td>Precision</td>\n",
       "      <td>0.840659</td>\n",
       "      <td>0.957447</td>\n",
       "      <td>0.850000</td>\n",
       "      <td>0.926471</td>\n",
       "      <td>1.000000</td>\n",
       "    </tr>\n",
       "    <tr>\n",
       "      <th></th>\n",
       "      <td></td>\n",
       "      <td>Recall</td>\n",
       "      <td>0.962264</td>\n",
       "      <td>0.841121</td>\n",
       "      <td>0.796875</td>\n",
       "      <td>0.926471</td>\n",
       "      <td>0.990244</td>\n",
       "    </tr>\n",
       "    <tr>\n",
       "      <th></th>\n",
       "      <td></td>\n",
       "      <td>f1-score</td>\n",
       "      <td>0.897361</td>\n",
       "      <td>0.895522</td>\n",
       "      <td>0.822581</td>\n",
       "      <td>0.926471</td>\n",
       "      <td>0.995098</td>\n",
       "    </tr>\n",
       "    <tr>\n",
       "      <th></th>\n",
       "      <td>2</td>\n",
       "      <td>Precision</td>\n",
       "      <td>0.840796</td>\n",
       "      <td>0.913580</td>\n",
       "      <td>0.908451</td>\n",
       "      <td>0.958333</td>\n",
       "      <td>0.989744</td>\n",
       "    </tr>\n",
       "    <tr>\n",
       "      <th></th>\n",
       "      <td></td>\n",
       "      <td>Recall</td>\n",
       "      <td>0.949438</td>\n",
       "      <td>0.902439</td>\n",
       "      <td>0.902098</td>\n",
       "      <td>0.647887</td>\n",
       "      <td>1.000000</td>\n",
       "    </tr>\n",
       "    <tr>\n",
       "      <th></th>\n",
       "      <td></td>\n",
       "      <td>f1-score</td>\n",
       "      <td>0.891821</td>\n",
       "      <td>0.907975</td>\n",
       "      <td>0.905263</td>\n",
       "      <td>0.773109</td>\n",
       "      <td>0.994845</td>\n",
       "    </tr>\n",
       "    <tr>\n",
       "      <th></th>\n",
       "      <td>3</td>\n",
       "      <td>Precision</td>\n",
       "      <td>0.894009</td>\n",
       "      <td>0.935484</td>\n",
       "      <td>0.888889</td>\n",
       "      <td>0.907692</td>\n",
       "      <td>0.994253</td>\n",
       "    </tr>\n",
       "    <tr>\n",
       "      <th></th>\n",
       "      <td></td>\n",
       "      <td>Recall</td>\n",
       "      <td>0.941748</td>\n",
       "      <td>0.915789</td>\n",
       "      <td>0.888889</td>\n",
       "      <td>0.830986</td>\n",
       "      <td>0.977401</td>\n",
       "    </tr>\n",
       "    <tr>\n",
       "      <th></th>\n",
       "      <td></td>\n",
       "      <td>f1-score</td>\n",
       "      <td>0.917258</td>\n",
       "      <td>0.925532</td>\n",
       "      <td>0.888889</td>\n",
       "      <td>0.867647</td>\n",
       "      <td>0.985755</td>\n",
       "    </tr>\n",
       "  </tbody>\n",
       "</table>\n",
       "</div>"
      ],
      "text/plain": [
       "  k     Metric      high       low    medium  very high  very low\n",
       "  1  Precision  0.840659  0.957447  0.850000   0.926471  1.000000\n",
       "        Recall  0.962264  0.841121  0.796875   0.926471  0.990244\n",
       "      f1-score  0.897361  0.895522  0.822581   0.926471  0.995098\n",
       "  2  Precision  0.840796  0.913580  0.908451   0.958333  0.989744\n",
       "        Recall  0.949438  0.902439  0.902098   0.647887  1.000000\n",
       "      f1-score  0.891821  0.907975  0.905263   0.773109  0.994845\n",
       "  3  Precision  0.894009  0.935484  0.888889   0.907692  0.994253\n",
       "        Recall  0.941748  0.915789  0.888889   0.830986  0.977401\n",
       "      f1-score  0.917258  0.925532  0.888889   0.867647  0.985755"
      ]
     },
     "metadata": {},
     "output_type": "display_data"
    },
    {
     "name": "stdout",
     "output_type": "stream",
     "text": [
      "\n",
      "############# For Neural Network (Optimized)##############\n"
     ]
    },
    {
     "data": {
      "text/html": [
       "<div>\n",
       "<style scoped>\n",
       "    .dataframe tbody tr th:only-of-type {\n",
       "        vertical-align: middle;\n",
       "    }\n",
       "\n",
       "    .dataframe tbody tr th {\n",
       "        vertical-align: top;\n",
       "    }\n",
       "\n",
       "    .dataframe thead th {\n",
       "        text-align: right;\n",
       "    }\n",
       "</style>\n",
       "<table border=\"1\" class=\"dataframe\">\n",
       "  <thead>\n",
       "    <tr style=\"text-align: right;\">\n",
       "      <th></th>\n",
       "      <th>k</th>\n",
       "      <th>Metric</th>\n",
       "      <th>high</th>\n",
       "      <th>low</th>\n",
       "      <th>medium</th>\n",
       "      <th>very high</th>\n",
       "      <th>very low</th>\n",
       "    </tr>\n",
       "  </thead>\n",
       "  <tbody>\n",
       "    <tr>\n",
       "      <th></th>\n",
       "      <td>1</td>\n",
       "      <td>Precision</td>\n",
       "      <td>0.755000</td>\n",
       "      <td>0.931373</td>\n",
       "      <td>0.877778</td>\n",
       "      <td>0.885714</td>\n",
       "      <td>0.995122</td>\n",
       "    </tr>\n",
       "    <tr>\n",
       "      <th></th>\n",
       "      <td></td>\n",
       "      <td>Recall</td>\n",
       "      <td>0.949686</td>\n",
       "      <td>0.887850</td>\n",
       "      <td>0.617188</td>\n",
       "      <td>0.911765</td>\n",
       "      <td>0.995122</td>\n",
       "    </tr>\n",
       "    <tr>\n",
       "      <th></th>\n",
       "      <td></td>\n",
       "      <td>f1-score</td>\n",
       "      <td>0.841226</td>\n",
       "      <td>0.909091</td>\n",
       "      <td>0.724771</td>\n",
       "      <td>0.898551</td>\n",
       "      <td>0.995122</td>\n",
       "    </tr>\n",
       "    <tr>\n",
       "      <th></th>\n",
       "      <td>2</td>\n",
       "      <td>Precision</td>\n",
       "      <td>0.758621</td>\n",
       "      <td>0.971429</td>\n",
       "      <td>0.889908</td>\n",
       "      <td>0.733333</td>\n",
       "      <td>0.989744</td>\n",
       "    </tr>\n",
       "    <tr>\n",
       "      <th></th>\n",
       "      <td></td>\n",
       "      <td>Recall</td>\n",
       "      <td>0.865169</td>\n",
       "      <td>0.829268</td>\n",
       "      <td>0.678322</td>\n",
       "      <td>0.929577</td>\n",
       "      <td>1.000000</td>\n",
       "    </tr>\n",
       "    <tr>\n",
       "      <th></th>\n",
       "      <td></td>\n",
       "      <td>f1-score</td>\n",
       "      <td>0.808399</td>\n",
       "      <td>0.894737</td>\n",
       "      <td>0.769841</td>\n",
       "      <td>0.819876</td>\n",
       "      <td>0.994845</td>\n",
       "    </tr>\n",
       "    <tr>\n",
       "      <th></th>\n",
       "      <td>3</td>\n",
       "      <td>Precision</td>\n",
       "      <td>0.000000</td>\n",
       "      <td>0.909091</td>\n",
       "      <td>0.288177</td>\n",
       "      <td>0.901961</td>\n",
       "      <td>0.988636</td>\n",
       "    </tr>\n",
       "    <tr>\n",
       "      <th></th>\n",
       "      <td></td>\n",
       "      <td>Recall</td>\n",
       "      <td>0.000000</td>\n",
       "      <td>0.315789</td>\n",
       "      <td>1.000000</td>\n",
       "      <td>0.647887</td>\n",
       "      <td>0.983051</td>\n",
       "    </tr>\n",
       "    <tr>\n",
       "      <th></th>\n",
       "      <td></td>\n",
       "      <td>f1-score</td>\n",
       "      <td>0.000000</td>\n",
       "      <td>0.468750</td>\n",
       "      <td>0.447419</td>\n",
       "      <td>0.754098</td>\n",
       "      <td>0.985836</td>\n",
       "    </tr>\n",
       "  </tbody>\n",
       "</table>\n",
       "</div>"
      ],
      "text/plain": [
       "  k     Metric      high       low    medium  very high  very low\n",
       "  1  Precision  0.755000  0.931373  0.877778   0.885714  0.995122\n",
       "        Recall  0.949686  0.887850  0.617188   0.911765  0.995122\n",
       "      f1-score  0.841226  0.909091  0.724771   0.898551  0.995122\n",
       "  2  Precision  0.758621  0.971429  0.889908   0.733333  0.989744\n",
       "        Recall  0.865169  0.829268  0.678322   0.929577  1.000000\n",
       "      f1-score  0.808399  0.894737  0.769841   0.819876  0.994845\n",
       "  3  Precision  0.000000  0.909091  0.288177   0.901961  0.988636\n",
       "        Recall  0.000000  0.315789  1.000000   0.647887  0.983051\n",
       "      f1-score  0.000000  0.468750  0.447419   0.754098  0.985836"
      ]
     },
     "metadata": {},
     "output_type": "display_data"
    }
   ],
   "source": [
    "print(\"\\n############# For Neural Network (Non-Linear)##############\")\n",
    "data = []\n",
    "data.append(CreatePrecisionRow('1',nn_test_target_test[0], nn_test_non_linear_prediction[0]))\n",
    "data.append(CreateRecallRow('',nn_test_target_test[0], nn_test_non_linear_prediction[0]))\n",
    "data.append(CreateF1ScoreRow('',nn_test_target_test[0], nn_test_non_linear_prediction[0]))\n",
    "data.append(CreatePrecisionRow('2',nn_test_target_test[1], nn_test_non_linear_prediction[1]))\n",
    "data.append(CreateRecallRow('',nn_test_target_test[1], nn_test_non_linear_prediction[1]))\n",
    "data.append(CreateF1ScoreRow('',nn_test_target_test[1], nn_test_non_linear_prediction[1]))\n",
    "data.append(CreatePrecisionRow('3',nn_test_target_test[2], nn_test_non_linear_prediction[2]))\n",
    "data.append(CreateRecallRow('',nn_test_target_test[2], nn_test_non_linear_prediction[2]))\n",
    "data.append(CreateF1ScoreRow('',nn_test_target_test[2], nn_test_non_linear_prediction[2]))\n",
    "stats = pd.DataFrame(data, columns=['k', 'Metric', 'high','low','medium','very high','very low'])\n",
    "blankIndex=[''] * len(stats)\n",
    "stats.index=blankIndex\n",
    "display(stats.head(len(stats)))\n",
    "\n",
    "print(\"\\n############# For Neural Network (Optimized)##############\")\n",
    "data = []\n",
    "data.append(CreatePrecisionRow('1',nn_test_target_test[0], nn_test_optimized_prediction[0]))\n",
    "data.append(CreateRecallRow('',nn_test_target_test[0], nn_test_optimized_prediction[0]))\n",
    "data.append(CreateF1ScoreRow('',nn_test_target_test[0], nn_test_optimized_prediction[0]))\n",
    "data.append(CreatePrecisionRow('2',nn_test_target_test[1], nn_test_optimized_prediction[1]))\n",
    "data.append(CreateRecallRow('',nn_test_target_test[1], nn_test_optimized_prediction[1]))\n",
    "data.append(CreateF1ScoreRow('',nn_test_target_test[1], nn_test_optimized_prediction[1]))\n",
    "data.append(CreatePrecisionRow('3',nn_test_target_test[2], nn_test_optimized_prediction[2]))\n",
    "data.append(CreateRecallRow('',nn_test_target_test[2], nn_test_optimized_prediction[2]))\n",
    "data.append(CreateF1ScoreRow('',nn_test_target_test[2], nn_test_optimized_prediction[2]))\n",
    "stats = pd.DataFrame(data, columns=['k', 'Metric', 'high','low','medium','very high','very low'])\n",
    "blankIndex=[''] * len(stats)\n",
    "stats.index=blankIndex\n",
    "display(stats.head(len(stats)))"
   ]
  },
  {
   "cell_type": "markdown",
   "metadata": {},
   "source": [
    "- Accuracy scores on training and test data (give explicitly the result for each fold)"
   ]
  },
  {
   "cell_type": "markdown",
   "metadata": {},
   "source": [
    "### SVM: Accuracy scores"
   ]
  },
  {
   "cell_type": "code",
   "execution_count": 213,
   "metadata": {},
   "outputs": [],
   "source": [
    "def PrintAccuracy(_y_test, _y_pred):\n",
    "    data = []\n",
    "    for i in range(len(_y_test)):\n",
    "        print('---------------------------------------------------------------------------------------------')\n",
    "        print('For k = ', i+1)\n",
    "        print('Accuracy : ', accuracy_score(_y_test[i], _y_pred[i]))\n",
    "        print('---------------------------------------------------------------------------------------------')"
   ]
  },
  {
   "cell_type": "code",
   "execution_count": 268,
   "metadata": {},
   "outputs": [
    {
     "name": "stdout",
     "output_type": "stream",
     "text": [
      "############# Support Vector Machine ##############\n"
     ]
    },
    {
     "data": {
      "text/html": [
       "<div>\n",
       "<style scoped>\n",
       "    .dataframe tbody tr th:only-of-type {\n",
       "        vertical-align: middle;\n",
       "    }\n",
       "\n",
       "    .dataframe tbody tr th {\n",
       "        vertical-align: top;\n",
       "    }\n",
       "\n",
       "    .dataframe thead th {\n",
       "        text-align: right;\n",
       "    }\n",
       "</style>\n",
       "<table border=\"1\" class=\"dataframe\">\n",
       "  <thead>\n",
       "    <tr style=\"text-align: right;\">\n",
       "      <th></th>\n",
       "      <th>dataset</th>\n",
       "      <th>k</th>\n",
       "      <th>Accuracy</th>\n",
       "    </tr>\n",
       "  </thead>\n",
       "  <tbody>\n",
       "    <tr>\n",
       "      <th></th>\n",
       "      <td>training set</td>\n",
       "      <td>1</td>\n",
       "      <td>0.592973</td>\n",
       "    </tr>\n",
       "    <tr>\n",
       "      <th></th>\n",
       "      <td>training set</td>\n",
       "      <td>2</td>\n",
       "      <td>0.625804</td>\n",
       "    </tr>\n",
       "    <tr>\n",
       "      <th></th>\n",
       "      <td>training set</td>\n",
       "      <td>3</td>\n",
       "      <td>0.60823</td>\n",
       "    </tr>\n",
       "    <tr>\n",
       "      <th></th>\n",
       "      <td></td>\n",
       "      <td></td>\n",
       "      <td></td>\n",
       "    </tr>\n",
       "    <tr>\n",
       "      <th></th>\n",
       "      <td>testing set</td>\n",
       "      <td>1</td>\n",
       "      <td>0.616</td>\n",
       "    </tr>\n",
       "    <tr>\n",
       "      <th></th>\n",
       "      <td>testing set</td>\n",
       "      <td>2</td>\n",
       "      <td>0.618</td>\n",
       "    </tr>\n",
       "    <tr>\n",
       "      <th></th>\n",
       "      <td>testing set</td>\n",
       "      <td>3</td>\n",
       "      <td>0.642</td>\n",
       "    </tr>\n",
       "  </tbody>\n",
       "</table>\n",
       "</div>"
      ],
      "text/plain": [
       "       dataset  k  Accuracy\n",
       "  training set  1  0.592973\n",
       "  training set  2  0.625804\n",
       "  training set  3   0.60823\n",
       "                           \n",
       "   testing set  1     0.616\n",
       "   testing set  2     0.618\n",
       "   testing set  3     0.642"
      ]
     },
     "metadata": {},
     "output_type": "display_data"
    }
   ],
   "source": [
    "def CreateRowSVM(data, k, y_t, y_p):\n",
    "    row = []\n",
    "    row.append(data)\n",
    "    row.append(k)\n",
    "    row.append(accuracy_score(y_t, y_p))\n",
    "    return row\n",
    "\n",
    "print('############# Support Vector Machine ##############')\n",
    "data = []\n",
    "data.append(CreateRowSVM('training set',1,svmTrain_target_test[0], svmTrain_prediction[0]))\n",
    "data.append(CreateRowSVM('training set',2,svmTrain_target_test[1], svmTrain_prediction[1]))\n",
    "data.append(CreateRowSVM('training set',3,svmTrain_target_test[2], svmTrain_prediction[2]))\n",
    "data.append(['','',''])\n",
    "data.append(CreateRowSVM('testing set',1,svmTest_target_test[0], svmTest_prediction[0]))\n",
    "data.append(CreateRowSVM('testing set',2,svmTest_target_test[1], svmTest_prediction[1]))\n",
    "data.append(CreateRowSVM('testing set',3,svmTest_target_test[2], svmTest_prediction[2]))\n",
    "stats = pd.DataFrame(data, columns=['dataset', 'k', 'Accuracy'])\n",
    "blankIndex=[''] * len(stats)\n",
    "stats.index=blankIndex\n",
    "display(stats.head(len(stats)))"
   ]
  },
  {
   "cell_type": "markdown",
   "metadata": {},
   "source": [
    "### ANN: Accuracy Scores"
   ]
  },
  {
   "cell_type": "code",
   "execution_count": 269,
   "metadata": {},
   "outputs": [
    {
     "name": "stdout",
     "output_type": "stream",
     "text": [
      "############# Artificial Neural Networks ##############\n"
     ]
    },
    {
     "data": {
      "text/html": [
       "<div>\n",
       "<style scoped>\n",
       "    .dataframe tbody tr th:only-of-type {\n",
       "        vertical-align: middle;\n",
       "    }\n",
       "\n",
       "    .dataframe tbody tr th {\n",
       "        vertical-align: top;\n",
       "    }\n",
       "\n",
       "    .dataframe thead th {\n",
       "        text-align: right;\n",
       "    }\n",
       "</style>\n",
       "<table border=\"1\" class=\"dataframe\">\n",
       "  <thead>\n",
       "    <tr style=\"text-align: right;\">\n",
       "      <th></th>\n",
       "      <th>ANN Model</th>\n",
       "      <th>dataset</th>\n",
       "      <th>k</th>\n",
       "      <th>Accuracy</th>\n",
       "    </tr>\n",
       "  </thead>\n",
       "  <tbody>\n",
       "    <tr>\n",
       "      <th></th>\n",
       "      <td>ANN (Non-Linear)</td>\n",
       "      <td>training set</td>\n",
       "      <td>1</td>\n",
       "      <td>0.925037</td>\n",
       "    </tr>\n",
       "    <tr>\n",
       "      <th></th>\n",
       "      <td>ANN (Non-Linear)</td>\n",
       "      <td>training set</td>\n",
       "      <td>2</td>\n",
       "      <td>0.896552</td>\n",
       "    </tr>\n",
       "    <tr>\n",
       "      <th></th>\n",
       "      <td>ANN (Non-Linear)</td>\n",
       "      <td>training set</td>\n",
       "      <td>3</td>\n",
       "      <td>0.912913</td>\n",
       "    </tr>\n",
       "    <tr>\n",
       "      <th></th>\n",
       "      <td></td>\n",
       "      <td></td>\n",
       "      <td></td>\n",
       "      <td></td>\n",
       "    </tr>\n",
       "    <tr>\n",
       "      <th></th>\n",
       "      <td>ANN (Non-Linear)</td>\n",
       "      <td>testing set</td>\n",
       "      <td>1</td>\n",
       "      <td>0.916042</td>\n",
       "    </tr>\n",
       "    <tr>\n",
       "      <th></th>\n",
       "      <td>ANN (Non-Linear)</td>\n",
       "      <td>testing set</td>\n",
       "      <td>2</td>\n",
       "      <td>0.916042</td>\n",
       "    </tr>\n",
       "    <tr>\n",
       "      <th></th>\n",
       "      <td>ANN (Non-Linear)</td>\n",
       "      <td>testing set</td>\n",
       "      <td>3</td>\n",
       "      <td>0.926426</td>\n",
       "    </tr>\n",
       "    <tr>\n",
       "      <th></th>\n",
       "      <td></td>\n",
       "      <td></td>\n",
       "      <td></td>\n",
       "      <td></td>\n",
       "    </tr>\n",
       "    <tr>\n",
       "      <th></th>\n",
       "      <td>ANN (Opimized)</td>\n",
       "      <td>training set</td>\n",
       "      <td>1</td>\n",
       "      <td>0.725637</td>\n",
       "    </tr>\n",
       "    <tr>\n",
       "      <th></th>\n",
       "      <td>ANN (Opimized)</td>\n",
       "      <td>training set</td>\n",
       "      <td>2</td>\n",
       "      <td>0.505247</td>\n",
       "    </tr>\n",
       "    <tr>\n",
       "      <th></th>\n",
       "      <td>ANN (Opimized)</td>\n",
       "      <td>training set</td>\n",
       "      <td>3</td>\n",
       "      <td>0.711712</td>\n",
       "    </tr>\n",
       "    <tr>\n",
       "      <th></th>\n",
       "      <td></td>\n",
       "      <td></td>\n",
       "      <td></td>\n",
       "      <td></td>\n",
       "    </tr>\n",
       "    <tr>\n",
       "      <th></th>\n",
       "      <td>ANN (Opimized)</td>\n",
       "      <td>testing set</td>\n",
       "      <td>1</td>\n",
       "      <td>0.886057</td>\n",
       "    </tr>\n",
       "    <tr>\n",
       "      <th></th>\n",
       "      <td>ANN (Opimized)</td>\n",
       "      <td>testing set</td>\n",
       "      <td>2</td>\n",
       "      <td>0.866567</td>\n",
       "    </tr>\n",
       "    <tr>\n",
       "      <th></th>\n",
       "      <td>ANN (Opimized)</td>\n",
       "      <td>testing set</td>\n",
       "      <td>3</td>\n",
       "      <td>0.551051</td>\n",
       "    </tr>\n",
       "    <tr>\n",
       "      <th></th>\n",
       "      <td></td>\n",
       "      <td></td>\n",
       "      <td></td>\n",
       "      <td></td>\n",
       "    </tr>\n",
       "  </tbody>\n",
       "</table>\n",
       "</div>"
      ],
      "text/plain": [
       "         ANN Model       dataset  k  Accuracy\n",
       "  ANN (Non-Linear)  training set  1  0.925037\n",
       "  ANN (Non-Linear)  training set  2  0.896552\n",
       "  ANN (Non-Linear)  training set  3  0.912913\n",
       "                                             \n",
       "  ANN (Non-Linear)   testing set  1  0.916042\n",
       "  ANN (Non-Linear)   testing set  2  0.916042\n",
       "  ANN (Non-Linear)   testing set  3  0.926426\n",
       "                                             \n",
       "    ANN (Opimized)  training set  1  0.725637\n",
       "    ANN (Opimized)  training set  2  0.505247\n",
       "    ANN (Opimized)  training set  3  0.711712\n",
       "                                             \n",
       "    ANN (Opimized)   testing set  1  0.886057\n",
       "    ANN (Opimized)   testing set  2  0.866567\n",
       "    ANN (Opimized)   testing set  3  0.551051\n",
       "                                             "
      ]
     },
     "metadata": {},
     "output_type": "display_data"
    }
   ],
   "source": [
    "def CreateRow(ann, data, k, y_t, y_p):\n",
    "    row = []\n",
    "    row.append(ann)\n",
    "    row.append(data)\n",
    "    row.append(k)\n",
    "    row.append(accuracy_score(y_t, y_p))\n",
    "    return row\n",
    "\n",
    "print('############# Artificial Neural Networks ##############')\n",
    "data = []\n",
    "data.append(CreateRow('ANN (Non-Linear)','training set',1,nn_test_target_train[0], nn_train_non_linear_prediction[0]))\n",
    "data.append(CreateRow('ANN (Non-Linear)','training set',2,nn_test_target_train[1], nn_train_non_linear_prediction[1]))\n",
    "data.append(CreateRow('ANN (Non-Linear)','training set',3,nn_test_target_train[2], nn_train_non_linear_prediction[2]))\n",
    "data.append(['','','',''])\n",
    "data.append(CreateRow('ANN (Non-Linear)','testing set',1,nn_test_target_test[0], nn_test_non_linear_prediction[0]))\n",
    "data.append(CreateRow('ANN (Non-Linear)','testing set',2,nn_test_target_test[1], nn_test_non_linear_prediction[1]))\n",
    "data.append(CreateRow('ANN (Non-Linear)','testing set',3,nn_test_target_test[2], nn_test_non_linear_prediction[2]))\n",
    "data.append(['','','',''])\n",
    "data.append(CreateRow('ANN (Opimized)','training set',1,nn_test_target_train[0], nn_train_optimized_prediction[0]))\n",
    "data.append(CreateRow('ANN (Opimized)','training set',2,nn_test_target_train[1], nn_train_optimized_prediction[1]))\n",
    "data.append(CreateRow('ANN (Opimized)','training set',3,nn_test_target_train[2], nn_train_optimized_prediction[2]))\n",
    "data.append(['','','',''])\n",
    "data.append(CreateRow('ANN (Opimized)','testing set',1,nn_test_target_test[0], nn_test_optimized_prediction[0]))\n",
    "data.append(CreateRow('ANN (Opimized)','testing set',2,nn_test_target_test[1], nn_test_optimized_prediction[1]))\n",
    "data.append(CreateRow('ANN (Opimized)','testing set',3,nn_test_target_test[2], nn_test_optimized_prediction[2]))\n",
    "data.append(['','','',''])\n",
    "\n",
    "stats = pd.DataFrame(data, columns=['ANN Model', 'dataset', 'k', 'Accuracy'])\n",
    "blankIndex=[''] * len(stats)\n",
    "stats.index=blankIndex\n",
    "display(stats.head(len(stats)))"
   ]
  },
  {
   "cell_type": "markdown",
   "metadata": {},
   "source": [
    "In order to turn numbers into insights, please comment on your findings. Motivate the answers to the following questions using the metrics and the findings in the questions 1 through 5 of the assignment."
   ]
  },
  {
   "cell_type": "markdown",
   "metadata": {},
   "source": [
    "   (b) What is, in your opinion, the best model? Motivate your answer with the correct performance metrics."
   ]
  },
  {
   "cell_type": "markdown",
   "metadata": {},
   "source": [
    "Explanation:\n",
    "ANN with non-linear activation function is the best model.\n",
    "It has the highest accuracy of all models in both tradional sampling and 3-fold cross validation. It also has high value of recall, precision, and f1-score."
   ]
  },
  {
   "cell_type": "markdown",
   "metadata": {},
   "source": [
    "   (c) Does any model suffer from underfitting or overfitting? Motivate your answer with the correct performance metrics."
   ]
  },
  {
   "cell_type": "markdown",
   "metadata": {},
   "source": [
    "Explanation:\n",
    "SVM with c = 0.5 and kernel = sigmoid suffers from underfitting as it has accuracy around 0.2.\n",
    "Other than that, all other models have their acurracies in the range of 50 to 90, so they neither suffer from underfitting nor overfitting."
   ]
  },
  {
   "cell_type": "markdown",
   "metadata": {},
   "source": [
    "   (d) What is the effect of employing cross validation, instead of simply holding our a certain percentage of examples as test/validation set? What are the advantages and disadvantages of cross validation?"
   ]
  },
  {
   "cell_type": "markdown",
   "metadata": {},
   "source": [
    "Explanation:\n",
    "Employing cross validation enables us to use all of our data for training and testing purposes. What is used for testing in one model, is used for training in the other. This gives us more confidence in the algorithm.\n",
    "\n",
    "Advantages: \n",
    "1. All of our data is used.\n",
    "2. We can identify the consistency of data via similarity of metrics in different folds\n",
    "3. It allows us to work with dependent data\n",
    "4. Parameters fine-tuning\n",
    "Disadvantages: \n",
    "We can introduce bias if our training and validation sets are not from the same population.\n"
   ]
  },
  {
   "cell_type": "code",
   "execution_count": null,
   "metadata": {},
   "outputs": [],
   "source": []
  }
 ],
 "metadata": {
  "kernelspec": {
   "display_name": "Python 3",
   "language": "python",
   "name": "python3"
  },
  "language_info": {
   "codemirror_mode": {
    "name": "ipython",
    "version": 3
   },
   "file_extension": ".py",
   "mimetype": "text/x-python",
   "name": "python",
   "nbconvert_exporter": "python",
   "pygments_lexer": "ipython3",
   "version": "3.7.3"
  }
 },
 "nbformat": 4,
 "nbformat_minor": 2
}
