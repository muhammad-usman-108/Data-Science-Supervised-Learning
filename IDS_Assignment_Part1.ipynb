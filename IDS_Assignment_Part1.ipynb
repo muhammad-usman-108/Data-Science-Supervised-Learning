{
 "cells": [
  {
   "cell_type": "markdown",
   "metadata": {},
   "source": [
    "# The First Part of the Assignment of IDS 2019-2020\n",
    "Document your results as well as the way you obtained them in this jupyter notebook. A seperate report (pdf, word etc.) is _not_ required. However, it is necessary that you provide the python code leading to your results as well as textual answers to the assignment questions in this notebook. *DO NOT CLEAR THE OUTPUT of the notebook your are submitting!* In the cases that the result of an algorithm is pdf, jpg, etc, you should attach the result to this notebook file and refer to that in the text.  \n",
    "\n",
    "Next to the jupyter notebook, submit one zip-file containing all data sets that you are asked to submit. Make sure they are easily identifiable, i.e. use names as requested in the corresponding question.\n",
    "\n",
    "Do not change the general structure of this notebook, but you can add further markdown or code cells to explain your solutions if necessary. In the end, submit this file and your created data sets in moodle.\n",
    "\n",
    "Only <font color=\"red\">one </font> group member should upload your group's solution. *Make sure to include group members' names and matriculation numbers*. If your name and student id are not included in the report, you will not receive any points!\n",
    "\n",
    "\n",
    "Hint 1: While answering the questions, you will get a better and better impression of the given data. However, feel free to compute additional results and vizualizations to motivate the decisions you need to make, for example with respect to modification, simplification or sampling of the data. <font color=\"red\"><b>Ensure that all claims you make are supported by the presented facts!</b></font>\n",
    "\n",
    "Hint 2: <font color=\"red\"><b>Some of the tasks might need some time to run. Take this into account in your planning.</b></font>\n",
    "\n",
    "Hint 3: RWTHonline allows for multiple submissions (each submission overwrites the previous ones). <font color=\"red\"><b>Partial submissions are possible and encouraged. </b></font> This helps in case of technical problems of RWTHonline, which do seldomly happen."
   ]
  },
  {
   "cell_type": "markdown",
   "metadata": {},
   "source": [
    "<font color=\"red\"><b>Student Names and IDs:\n",
    "    1. Muhammad Usman (Matriculation Number : 407503)\n",
    "    2. Yashab Faryal (Matriculation Number : )"
   ]
  },
  {
   "cell_type": "markdown",
   "metadata": {},
   "source": [
    "## Preprocessing of the Dataset (5 points)\n",
    " You should carry out some preprocessing steps before starting the analysis:\n",
    " - Select 90% of 'population_density' dataset by random sampling.\n",
    "     - Use one of the group member's student number as a seed.\n",
    " - Add another column to the dataset:\n",
    "     - Name it 'population_density_categorical'.\n",
    "     - The values in this column depend on values in 'population_density' column and will be defined as follows:\n",
    "        - 5824=<population density              corresponding value in 'population_density_categorical' column: 'very high'\n",
    "        - 4368=<population density<5824         corresponding value in 'population_density_categorical' column: 'high'\n",
    "        - 2912=<population density<4368         corresponding value in 'population_density_categorical' column: 'medium'\n",
    "        - 1456=<population density<2912         corresponding value in 'population_density_categorical' column: 'low' \n",
    "        - population density<1456               corresponding value in 'population_density_categorical' column: 'very low'\n",
    " - After completing this preprocessing step, export your final dataset as 'population_density_categorical.csv' dataset and use that for next steps of the assignment.\n",
    " - If it is not directly mentioned, you should always use your extracted (above-created) dataset (without any cleaning).\n",
    " - <font color='red'>Important!</font> Make sure that you submit your extracted dataset with your result in moodle."
   ]
  },
  {
   "cell_type": "code",
   "execution_count": 30,
   "metadata": {},
   "outputs": [],
   "source": [
    "# Your code:\n",
    "import pandas as pd\n",
    "\n",
    "#path of the file\n",
    "data_url = 'D:\\\\Google Drive\\\\RWTH\\\\Introduction To Data Science\\\\Assignment Part 1\\\\population_density.csv'\n",
    "\n",
    "# read data from csv file as pandas dataframe\n",
    "df = pd.read_csv(data_url)\n",
    "\n",
    "# frac=0.9 which means 90% selection of data using random sampling\n",
    "# random_state is used as seed (Here I am using my Matriculation No. as required)\n",
    "df_percent = df.sample(frac=0.9, random_state=407503)\n",
    "\n",
    "population_density_categorical = []\n",
    "\n",
    "for i in range(0,len(df_percent[\"population_density\"])):\n",
    "    if (df_percent.iloc[i][\"population_density\"] >= 5824):\n",
    "        population_density_categorical.append(\"very high\")\n",
    "    elif (df_percent.iloc[i][\"population_density\"] >= 4368 and df_percent.iloc[i][\"population_density\"]<5824):\n",
    "        population_density_categorical.append(\"high\")\n",
    "    elif (df_percent.iloc[i][\"population_density\"] >= 2912 and df_percent.iloc[i][\"population_density\"]<4368):\n",
    "        population_density_categorical.append(\"medium\")\n",
    "    elif (df_percent.iloc[i][\"population_density\"] >= 1456 and df_percent.iloc[i][\"population_density\"]<2912):\n",
    "        population_density_categorical.append(\"low\")\n",
    "    elif (df_percent.iloc[i][\"population_density\"] < 1456):\n",
    "        population_density_categorical.append(\"very low\")\n",
    "\n",
    "df_percent[\"population_density_categorical\"] = population_density_categorical\n",
    "\n",
    "export_csv = df_percent.to_csv (r'D:\\\\Google Drive\\\\RWTH\\\\Introduction To Data Science\\\\Assignment Part 1\\\\population_density_categorical.csv') \n",
    "\n"
   ]
  },
  {
   "cell_type": "markdown",
   "metadata": {},
   "source": [
    "## Question 1 - Insights into the Data (20 points):"
   ]
  },
  {
   "cell_type": "markdown",
   "metadata": {},
   "source": [
    "### Dealing with Outliers (10 points)\n",
    "   (a) Use a boxplot to find and remove the outliers from \"temperature\". Note that based on the boxplot the values greater than upper-whisker and less than lower-whisker are considered as the outliers. Now you should  have two datasets (cleaned and original)."
   ]
  },
  {
   "cell_type": "code",
   "execution_count": 32,
   "metadata": {},
   "outputs": [
    {
     "name": "stderr",
     "output_type": "stream",
     "text": [
      "D:\\Anaconda3\\lib\\site-packages\\ipykernel_launcher.py:19: UserWarning: Boolean Series key will be reindexed to match DataFrame index.\n"
     ]
    },
    {
     "data": {
      "text/plain": [
       "Text(0.5, 1.0, 'Temperature without outliers')"
      ]
     },
     "execution_count": 32,
     "metadata": {},
     "output_type": "execute_result"
    },
    {
     "data": {
      "image/png": "[encoded data removed]",
      "text/plain": [
       "<Figure size 432x288 with 2 Axes>"
      ]
     },
     "metadata": {
      "needs_background": "light"
     },
     "output_type": "display_data"
    }
   ],
   "source": [
    "# Your code:\n",
    "import matplotlib.pyplot as plt\n",
    "import numpy as np\n",
    "\n",
    "# path of exported dataset - now use this dataset for next steps as original dataset\n",
    "data_url = 'D:\\\\Google Drive\\\\RWTH\\\\Introduction To Data Science\\\\Assignment Part 1\\\\population_density_categorical.csv'\n",
    "\n",
    "# read data from csv file as pandas dataframe\n",
    "df_original = pd.read_csv(data_url)\n",
    "\n",
    "upper_quartile = df_original[\"temperature\"].quantile(0.75)\n",
    "lower_quartile = df_original[\"temperature\"].quantile(0.25)\n",
    "IQR = (upper_quartile - lower_quartile)\n",
    "upperFence = upper_quartile + 1.5 * IQR\n",
    "lowerFence = lower_quartile - 1.5 * IQR\n",
    "\n",
    "# removing outliers - Cleaning the data\n",
    "df_cleaned = df_original[df_original.temperature > lowerFence]\n",
    "df_cleaned = df_cleaned[df_original.temperature < upperFence]\n",
    "\n",
    "# After removing the outliers, export the cleaned dataset into CSV file - named 'population_density_categorical_clean.csv'\n",
    "export_csv = df_cleaned.to_csv (r'D:\\\\Google Drive\\\\RWTH\\\\Introduction To Data Science\\\\Assignment Part 1\\\\population_density_categorical_clean.csv') \n",
    "\n",
    "# plotting_before_removing_outliers\n",
    "plt.subplot(131)\n",
    "plt.boxplot(df_original[\"temperature\"])\n",
    "plt.title('Temperature with outliers')\n",
    "\n",
    "# plotting_after_removing_outliers\n",
    "plt.subplot(133)\n",
    "plt.boxplot(df_cleaned[\"temperature\"])\n",
    "plt.title('Temperature without outliers')"
   ]
  },
  {
   "cell_type": "markdown",
   "metadata": {},
   "source": [
    "   (b) Compare basic statistical features of \"temperature\" (median, mean, and mode) in the cleaned and original datasets.    Interpret the differences for these statistical values between the cleaned and original datasets. "
   ]
  },
  {
   "cell_type": "code",
   "execution_count": 33,
   "metadata": {},
   "outputs": [
    {
     "name": "stdout",
     "output_type": "stream",
     "text": [
      "For Original Datasets\n",
      "Median :  282.51\n",
      "Mean   :  281.2260937442375\n",
      "Mode   :  274.15\n",
      "\n",
      "For Cleaned Datasets\n",
      "Median :  282.525\n",
      "Mean   :  281.29093122608015\n",
      "Mode   :  274.15\n",
      "\n",
      "Interpretation : \n",
      "The statistical values of both cleaned & original datasets are SAME because the outliers have zero value. \n",
      "so there is no impact on the statistical analysis (i-e Median, Mean & Mode)\n"
     ]
    }
   ],
   "source": [
    "# Your code:\n",
    "import statistics \n",
    "\n",
    "# Finding Mean, Median & Mode for Original Datasets\n",
    "print(\"For Original Datasets\")\n",
    "print(\"Median : \" , statistics.median(df_original['temperature']))               # median for the 'temperature' \n",
    "print(\"Mean   : \" , statistics.mean(df_original[\"temperature\"]))                 # mean for the 'temperature'\n",
    "print(\"Mode   : \" , statistics.mode(df_original['temperature']))                 # mode for the 'temperature'\n",
    "\n",
    "# Finding Mean, Median & Mode for Cleaned Datasets\n",
    "print(\"\\nFor Cleaned Datasets\")\n",
    "print(\"Median : \" , statistics.median(df_cleaned['temperature']))                # median for the 'temperature' \n",
    "print(\"Mean   : \" , statistics.mean(df_cleaned[\"temperature\"]))                  # mean for the 'temperature'\n",
    "print(\"Mode   : \" , statistics.mode(df_cleaned['temperature']))                  # mode for the 'temperature'\n",
    " \n",
    "# INTERPRETATION :\n",
    "# The statistical values of both cleaned & original datasets are SAME \n",
    "# because the outliers have zero value. \n",
    "# so there is no impact on the statistical analysis (i-e Median, Mean & Mode)\n",
    "print(\"\\nInterpretation : \\nThe statistical values of both cleaned & original datasets are SAME because the outliers have zero value. \\nso there is no impact on the statistical analysis (i-e Median, Mean & Mode)\")"
   ]
  },
  {
   "cell_type": "markdown",
   "metadata": {},
   "source": [
    "   (c) Compare the number of data rows before and after removing the outliers. How many data rows are removed by removing    outliers?"
   ]
  },
  {
   "cell_type": "code",
   "execution_count": 34,
   "metadata": {},
   "outputs": [
    {
     "name": "stdout",
     "output_type": "stream",
     "text": [
      "There are  10  rows removed by removing outliers\n"
     ]
    }
   ],
   "source": [
    "# Your code:\n",
    "print('There are ', (len(df_original[\"temperature\"])-len(df_cleaned['temperature'])), ' rows removed by removing outliers' )\n"
   ]
  },
  {
   "cell_type": "markdown",
   "metadata": {},
   "source": [
    "### Basic Visualization (10 points)\n",
    "   (d) Visualize mean and median of \"population_density\" for non-'None' \"holiday\" values in the original dataset. Specify    the \"holiday\" values for which the mean of \"population_density\" is maximal and for which it is minimal."
   ]
  },
  {
   "cell_type": "code",
   "execution_count": 35,
   "metadata": {},
   "outputs": [
    {
     "name": "stdout",
     "output_type": "stream",
     "text": [
      "1356.0 is the maximum mean value of population density for ' New Years Day ' holiday\n",
      "535.5 is the minimum mean value of population density for ' Columbus Day ' holiday\n"
     ]
    },
    {
     "data": {
      "image/png": "[encoded data removed]",
      "text/plain": [
       "<Figure size 432x288 with 2 Axes>"
      ]
     },
     "metadata": {
      "needs_background": "light"
     },
     "output_type": "display_data"
    }
   ],
   "source": [
    "# Your code:\n",
    "\n",
    "# Divide the dataset into groups on the basis of Holiday\n",
    "\n",
    "# Calculate mean of 'population_density' on group basis\n",
    "# df_new is the dataframe of original dataset\n",
    "df_mean = df_original.groupby('holiday')['population_density'].mean().reset_index()\n",
    "\n",
    "# Calculate median of 'population_density' on group basis\n",
    "df_median = df_original.groupby('holiday')['population_density'].median().reset_index()\n",
    "\n",
    "# Filter the holidays value for non-'None'\n",
    "# Drop the row (instance) that have 'None' holiday value\n",
    "df_mean = df_mean[df_mean.holiday != 'None']\n",
    "df_median = df_median[df_median.holiday != 'None']\n",
    "\n",
    "# Visualize Mean of 'population_density'\n",
    "plt.subplot(121)\n",
    "plt.hist(df_mean[\"population_density\"], edgecolor='k')\n",
    "plt.title('Mean of Population Density')\n",
    "\n",
    "# Visualize Median of 'population_density'\n",
    "plt.subplot(122)\n",
    "plt.hist(df_median[\"population_density\"], edgecolor='k')\n",
    "plt.title('Median of Population Density')\n",
    "\n",
    "# Specify the \"holiday\" values for which the mean of \"population_density\" is maximal.\n",
    "print(df_mean[\"population_density\"].max(), \"is the maximum mean value of population density for '\", df_mean[\"holiday\"][df_mean[\"population_density\"].idxmax()] , \"' holiday\")\n",
    "\n",
    "# Specify the \"holiday\" values for which the mean of \"population_density\" is minimal.\n",
    "print(df_mean[\"population_density\"].min(), \"is the minimum mean value of population density for '\", df_mean[\"holiday\"][df_mean[\"population_density\"].idxmin()] , \"' holiday\")\n"
   ]
  },
  {
   "cell_type": "markdown",
   "metadata": {},
   "source": [
    "   (e) Plot the distribution of \"temperature\" in the original and cleaned datasets."
   ]
  },
  {
   "cell_type": "code",
   "execution_count": 36,
   "metadata": {},
   "outputs": [
    {
     "data": {
      "text/plain": [
       "<matplotlib.axes._subplots.AxesSubplot at 0x25aa83a2400>"
      ]
     },
     "execution_count": 36,
     "metadata": {},
     "output_type": "execute_result"
    },
    {
     "data": {
      "image/png": "[encoded data removed]",
      "text/plain": [
       "<Figure size 432x288 with 1 Axes>"
      ]
     },
     "metadata": {},
     "output_type": "display_data"
    }
   ],
   "source": [
    "# Your code:\n",
    "\n",
    "import seaborn as sns\n",
    "from scipy import stats\n",
    "\n",
    "sns.set(color_codes=True)\n",
    "\n",
    "# Distribution of 'temperature' for original datasets \n",
    "sns.distplot(df_original['temperature'], color=\"orange\", label=\"Original\", hist=False, rug=True)\n",
    "\n",
    "# Distribution of 'temperature' for cleaned datasets\n",
    "sns.distplot(df_cleaned['temperature'], color=\"dodgerblue\", label=\"Cleaned\", hist=False, rug=True)\n",
    "\n",
    "# Both dataset have almost same values except the outliers thats why both distribution curve are overlapped each other."
   ]
  },
  {
   "cell_type": "markdown",
   "metadata": {},
   "source": [
    "   (f) Explore the distribution of \"population_density\" and \"temperature\" together in the cleaned dataset. Specify the ranges of \"temperature\" and \"population_density\" for which the frequency of the data is the highest."
   ]
  },
  {
   "cell_type": "code",
   "execution_count": 37,
   "metadata": {},
   "outputs": [
    {
     "data": {
      "text/plain": [
       "<matplotlib.axes._subplots.AxesSubplot at 0x25aac487668>"
      ]
     },
     "execution_count": 37,
     "metadata": {},
     "output_type": "execute_result"
    },
    {
     "data": {
      "image/png": "[encoded data removed]",
      "text/plain": [
       "<Figure size 432x288 with 1 Axes>"
      ]
     },
     "metadata": {},
     "output_type": "display_data"
    }
   ],
   "source": [
    "# Your code:\n",
    "\n",
    "# Distribution of 'population_density' for cleaned datasets \n",
    "sns.distplot(df_cleaned['population_density'], color=\"orange\", label=\"Population Density\", hist=False, rug=True)\n",
    "\n",
    "# Distribution of 'temperature' for cleaned datasets\n",
    "sns.distplot(df_cleaned['temperature'], color=\"dodgerblue\", label=\"Temperature\", hist=False, rug=True)"
   ]
  },
  {
   "cell_type": "markdown",
   "metadata": {},
   "source": [
    "## Question 2 - Decision Trees (15 points):"
   ]
  },
  {
   "cell_type": "markdown",
   "metadata": {},
   "source": [
    "   (a) Add a categorical temperature column to the cleaned dataset based on the following rules and name it                \"temperature_categorical\":\n",
    "        - temperature >= upper_quartile (third quartile) corresponding value in 'temperature_categorical' column: 'high'\n",
    "        - temperature <= lower_quartile (first quartile) corresponding value in 'temperature_categorical' column: 'low'\n",
    "        - lower_quartile < temperature < upper_quartile corresponding value in 'temperature_categorical' column: 'medium'"
   ]
  },
  {
   "cell_type": "code",
   "execution_count": 114,
   "metadata": {},
   "outputs": [],
   "source": [
    "# Your code:\n",
    "\n",
    "# Calculate upper quartile of 'temperature' for cleaned dataset\n",
    "upper_quartile = df_cleaned[\"temperature\"].quantile(0.75)\n",
    "\n",
    "# Calculate upper quartile of 'temperature' for cleaned dataset\n",
    "lower_quartile = df_cleaned[\"temperature\"].quantile(0.25)\n",
    "\n",
    "\n",
    "temperature_categorical = []\n",
    "\n",
    "# Iterate all the values of 'temperature' \n",
    "for i in range(0,len(df_cleaned[\"temperature\"])):\n",
    "    \n",
    "    # temperature >= upper_quartile (third quartile) corresponding value in 'temperature_categorical' column: 'high'\n",
    "    if (df_cleaned.iloc[i][\"temperature\"] >= upper_quartile):\n",
    "        temperature_categorical.append(\"high\")\n",
    "    \n",
    "    # temperature <= lower_quartile (first quartile) corresponding value in 'temperature_categorical' column: 'low'\n",
    "    elif (df_cleaned.iloc[i][\"temperature\"] <= lower_quartile):\n",
    "        temperature_categorical.append(\"low\")\n",
    "        \n",
    "    # lower_quartile < temperature < upper_quartile corresponding value in 'temperature_categorical' column: 'medium'\n",
    "    elif (df_cleaned.iloc[i][\"temperature\"] > lower_quartile and df_cleaned.iloc[i][\"temperature\"] < upper_quartile):\n",
    "        temperature_categorical.append(\"medium\")\n",
    "\n",
    "# Append the new column 'temperature_categorical' in dataframe \n",
    "df_cleaned[\"temperature_categorical\"] = temperature_categorical\n",
    "\n",
    "export_csv = df_cleaned.to_csv (r'D:\\\\Google Drive\\\\RWTH\\\\Introduction To Data Science\\\\Assignment Part 1\\\\temperature_categorical.csv') \n",
    "\n"
   ]
  },
  {
   "cell_type": "markdown",
   "metadata": {},
   "source": [
    "   (b) In the new dataset (created in Section 'a'), consider \"holiday\", \"temperature_categorical\", and \"weather_type\" as    the descriptive features and \"population_density_categorical\" as the target feature. Set the minimum number of samples  for splitting to 5000 and make a decision tree based on entropy."
   ]
  },
  {
   "cell_type": "code",
   "execution_count": 118,
   "metadata": {},
   "outputs": [
    {
     "name": "stdout",
     "output_type": "stream",
     "text": [
      "System entropy:  2.231038449600441\n",
      "System gini:  None\n"
     ]
    }
   ],
   "source": [
    "# Your code:\n",
    "\n",
    "from p_decision_tree.DecisionTree import DecisionTree\n",
    "\n",
    "df_cleaned_new = df_cleaned\n",
    "\n",
    "descriptive_features = [\"holiday\", \"temperature_categorical\", \"weather_type\"]\n",
    "target_features = \"population_density_categorical\"\n",
    "\n",
    "data_descriptive = df_cleaned_new[descriptive_features].values\n",
    "\n",
    "data_label = df_cleaned_new[target_features].values\n",
    "\n",
    "#Calling DecisionTree constructor (the last parameter is criterion which can also be \"gini\")\n",
    "decisionTree = DecisionTree(data_descriptive, descriptive_features, data_label, \"entropy\")\n",
    "\n",
    "#Here you can pass pruning features (gain_threshold and minimum_samples)\n",
    "decisionTree.id3(0,5000)\n",
    "\n",
    "#Visualizing decision tree by Graphviz\n",
    "dot = decisionTree.print_visualTree( render=True )\n",
    "\n",
    "\n",
    "print(\"System entropy: \", format(decisionTree.entropy))\n",
    "print(\"System gini: \", format(decisionTree.gini))"
   ]
  },
  {
   "cell_type": "markdown",
   "metadata": {},
   "source": [
    "   (c) What is the best attribute (based on entropy) for splitting the tree in the second round of ID3?  "
   ]
  },
  {
   "cell_type": "markdown",
   "metadata": {},
   "source": [
    "Explanation: weather_type is the best attribute for splitting the tree in the second round of ID3 Algorithm because it is the second highest descriptive feature based on entropy.\n"
   ]
  },
  {
   "cell_type": "markdown",
   "metadata": {},
   "source": [
    "## Question 3 - Regression (10 points):\n",
    "\n",
    "For this question (Q3), restrict your extracted data set to the columns *holiday, temperature, rain_1h, snow_1h, clouds_percentage, date_time* and *population_density*. Drop the information on the date for *date_time* and restrict the data to time values (hour) only.\n",
    "\n",
    "We define *population_density* to be our target feature, while all other features are considered descriptive."
   ]
  },
  {
   "cell_type": "code",
   "execution_count": null,
   "metadata": {},
   "outputs": [],
   "source": [
    "# Your code:\n",
    "\n"
   ]
  },
  {
   "cell_type": "markdown",
   "metadata": {},
   "source": [
    "   (a) Which features are suitable as an input for linear regression and which need to be modified first? Why?"
   ]
  },
  {
   "cell_type": "markdown",
   "metadata": {},
   "source": [
    "Explanation:\n"
   ]
  },
  {
   "cell_type": "markdown",
   "metadata": {},
   "source": [
    "   (b) Implement and briefly motivate an adequate modification. Print the resulting data set limited to the first two data rows."
   ]
  },
  {
   "cell_type": "markdown",
   "metadata": {},
   "source": [
    "Explanation:\n"
   ]
  },
  {
   "cell_type": "code",
   "execution_count": null,
   "metadata": {},
   "outputs": [],
   "source": [
    "# Your code:\n",
    "\n"
   ]
  },
  {
   "cell_type": "markdown",
   "metadata": {},
   "source": [
    "(c) To get a first idea about our data, plot the behaviour of the target feature (population_density) over time (date_time)."
   ]
  },
  {
   "cell_type": "code",
   "execution_count": null,
   "metadata": {},
   "outputs": [],
   "source": [
    "# Your code:\n",
    "\n"
   ]
  },
  {
   "cell_type": "markdown",
   "metadata": {},
   "source": [
    "   (d) Create two distinct subsets of the data. Use sampling methods as described in the lecture. You should end up with two DIFFERENT sample data sets *RegA, RegB*. Include these data sets in the submitted data set zip file. \n",
    "   \n",
    "   Which sampling methods did you choose and why? Which one do you expect to result in a better classifier?"
   ]
  },
  {
   "cell_type": "code",
   "execution_count": null,
   "metadata": {},
   "outputs": [],
   "source": [
    "# Your code:\n",
    "\n"
   ]
  },
  {
   "cell_type": "markdown",
   "metadata": {},
   "source": [
    "Explanation:\n"
   ]
  },
  {
   "cell_type": "markdown",
   "metadata": {},
   "source": [
    "   (e) Train a linear regression classifier based on each of the two sample data sets *RegA, RegB* created before."
   ]
  },
  {
   "cell_type": "code",
   "execution_count": null,
   "metadata": {},
   "outputs": [],
   "source": [
    "# Your code:\n",
    "\n"
   ]
  },
  {
   "cell_type": "markdown",
   "metadata": {},
   "source": [
    "(f) Visualize both computed regression functions in one plot each, combined with the original data set. For example, you can show a plot similar to 3(c) and insert the regression functions result."
   ]
  },
  {
   "cell_type": "code",
   "execution_count": null,
   "metadata": {},
   "outputs": [],
   "source": [
    "# Your code:\n",
    "\n"
   ]
  },
  {
   "cell_type": "markdown",
   "metadata": {},
   "source": [
    "   (g) For each of the two resulting models compute and print the mean squared error, mean absolute error and median squared error with respect to the original, non-sampled data set. Also, present plots showing the errors and squared errors."
   ]
  },
  {
   "cell_type": "code",
   "execution_count": null,
   "metadata": {},
   "outputs": [],
   "source": [
    "# Your code:\n",
    "\n"
   ]
  },
  {
   "cell_type": "markdown",
   "metadata": {},
   "source": [
    "   (h) Interpret and evaluate the two models and compare them. Why are they similar/different? Which model do you recommend and why? How do you think the applied methods could be improved to get better results?"
   ]
  },
  {
   "cell_type": "markdown",
   "metadata": {},
   "source": [
    "Explanation:\n"
   ]
  },
  {
   "cell_type": "markdown",
   "metadata": {},
   "source": [
    "## Question 4 - Support Vector Machines (10 points):\n",
    "\n",
    "For this question (Q4), restrict your extracted data set to the columns *holiday, temperature, rain_1h, snow_1h, clouds_percentage, date_time* and *population_density_categorical*. For *date_time*, drop the information on the date and restrict the data to time values only.\n",
    "We define *population_density_categorical* to be our target feature, while all other features are considered descriptive.\n"
   ]
  },
  {
   "cell_type": "code",
   "execution_count": null,
   "metadata": {},
   "outputs": [],
   "source": [
    "# Your code:\n",
    "\n"
   ]
  },
  {
   "cell_type": "markdown",
   "metadata": {},
   "source": [
    "   (a) Which features are suitable as an input for SVM and which need to be modified first? Modify the data as needed and provide a brief explanation."
   ]
  },
  {
   "cell_type": "code",
   "execution_count": null,
   "metadata": {},
   "outputs": [],
   "source": [
    "# Your code:\n",
    "\n"
   ]
  },
  {
   "cell_type": "markdown",
   "metadata": {},
   "source": [
    "Explanation:\n"
   ]
  },
  {
   "cell_type": "markdown",
   "metadata": {},
   "source": [
    "   (b) Divide the data set into a training set *svmTrain* and a test set *svmTest* and briefly motivate your division      strategy. Include these data sets in the data set zip file you submit. \n",
    "   \n",
    "   Hint: Training the SVMs will take longer for a large training set!"
   ]
  },
  {
   "cell_type": "code",
   "execution_count": null,
   "metadata": {},
   "outputs": [],
   "source": [
    "# Your code:\n",
    "\n"
   ]
  },
  {
   "cell_type": "markdown",
   "metadata": {},
   "source": [
    "Explanation:\n"
   ]
  },
  {
   "cell_type": "markdown",
   "metadata": {},
   "source": [
    "   (c) Use the training set to train 3 different SVMs with different combinations of the parameters. Use at least two distinct values for the parameters *kernel* and *C*."
   ]
  },
  {
   "cell_type": "code",
   "execution_count": null,
   "metadata": {},
   "outputs": [],
   "source": [
    "# Your code:\n",
    "\n"
   ]
  },
  {
   "cell_type": "markdown",
   "metadata": {},
   "source": [
    "   (d) Compute and print the mean accurracy and classification report of the trained SVMs with respect to the test set (as shown in instruction)."
   ]
  },
  {
   "cell_type": "code",
   "execution_count": null,
   "metadata": {},
   "outputs": [],
   "source": [
    "# Your code:\n",
    "\n"
   ]
  },
  {
   "cell_type": "markdown",
   "metadata": {},
   "source": [
    "   (e) Interpret and evaluate the 3 SVMs and compare them. Why are they similar/different? Which SVM do you recommend and why?"
   ]
  },
  {
   "cell_type": "markdown",
   "metadata": {},
   "source": [
    "Explanation:\n"
   ]
  },
  {
   "cell_type": "markdown",
   "metadata": {},
   "source": [
    "## Question 5 - Neural Networks (20 points)\n",
    "In this question consider the whole dataset that you have created in the *Preprocessing of Dataset* section. The target feature is *population_density_categorical*. \n",
    "\n",
    "To avoid performance problems, use the first 4000 rows of your dataset (you will need 2000 for training and 2000 for testing)."
   ]
  },
  {
   "cell_type": "markdown",
   "metadata": {},
   "source": [
    "   (a) What are the possible inputs of your network?\n",
    "     - Show the possible extracted features.\n",
    "     - Show the number of possible patterns of inputs for the categorical data."
   ]
  },
  {
   "cell_type": "code",
   "execution_count": 132,
   "metadata": {},
   "outputs": [
    {
     "name": "stdout",
     "output_type": "stream",
     "text": [
      "The possible extracted features are : \n",
      " ['holiday', 'temperature', 'rain_1h', 'snow_1h', 'clouds_percentage', 'weather_type', 'weather_type_details', 'date_time', 'population_density']\n",
      "\n",
      "The Number of possible patterns for each input of categorical data are : \n",
      "weather_type  =  9\n",
      "date_time  =  24\n",
      "weather_type_details  =  30\n",
      "holiday  =  9\n"
     ]
    }
   ],
   "source": [
    "# Your code:\n",
    "import pandas as pd\n",
    "#path of the file\n",
    "data_url = 'D:\\\\Google Drive\\\\RWTH\\\\Introduction To Data Science\\\\Assignment Part 1\\\\population_density_categorical.csv'\n",
    "\n",
    "# read data from csv file as pandas dataframe\n",
    "df = pd.read_csv(data_url)\n",
    "\n",
    "# To avoid performance problems, select first 4000 rows \n",
    "df = df[:4000]\n",
    "\n",
    "# Extract the time from date_time feature\n",
    "df['date_time'] = [d.split()[1] for d in df['date_time']]\n",
    "\n",
    "cols = df.columns[1:-1]\n",
    "\n",
    "num_cols = df._get_numeric_data().columns\n",
    "\n",
    "features = list(cols)\n",
    "print(\"The possible extracted features are : \\n\", features)\n",
    "\n",
    "categorical_data = list(set(cols) - set(num_cols))\n",
    "print(\"\\nThe Number of possible patterns for each input of categorical data are : \")\n",
    "\n",
    "#total_input_neuron = len(cols) - len(categorical_data)\n",
    "for i in categorical_data:\n",
    "    #total_input_neuron = total_input_neuron + len(df[i].unique())\n",
    "    print(i , \" = \" , len(df[i].unique()))\n",
    "    \n",
    "#print(\"\\nTotal Number of Input Neurons are \", total_input_neuron)\n"
   ]
  },
  {
   "cell_type": "markdown",
   "metadata": {},
   "source": [
    "Explanation:\n"
   ]
  },
  {
   "cell_type": "markdown",
   "metadata": {},
   "source": [
    "   (b) Before using the Neural Network algorithm, do you think it provides an accurate result? Why? \n",
    "     - Your explanation should be supported by data."
   ]
  },
  {
   "cell_type": "markdown",
   "metadata": {},
   "source": [
    "Explanation:\n"
   ]
  },
  {
   "cell_type": "code",
   "execution_count": null,
   "metadata": {},
   "outputs": [],
   "source": [
    "# Your code:\n",
    "\n"
   ]
  },
  {
   "cell_type": "markdown",
   "metadata": {},
   "source": [
    "   (c) Which features can be used for designing your network as inputs? Why?\n",
    "       - Which features should be changed (example: from categorical to numerical or numerical to categorical)? Why? \n",
    "       - Convert the features. "
   ]
  },
  {
   "cell_type": "markdown",
   "metadata": {},
   "source": [
    "Explanation:\n"
   ]
  },
  {
   "cell_type": "code",
   "execution_count": 68,
   "metadata": {},
   "outputs": [
    {
     "name": "stdout",
     "output_type": "stream",
     "text": [
      "Following categorical features in the dataset must be changed from categorical value to numerical value :\n",
      "['weather_type', 'date_time', 'weather_type_details', 'holiday']\n"
     ]
    }
   ],
   "source": [
    "# Your code:\n",
    "\n",
    "# Which features should be changed (example: from categorical to numerical or numerical to categorical)? Why? \n",
    "print(\"Following categorical features in the dataset must be changed from categorical value to numerical value :\")\n",
    "print(categorical_data)\n",
    "\n",
    "# Before convert categorical to numerical \n",
    "# Separate out the Input features & Output features\n",
    "# So Encoding is only apply on Input Features \n",
    "Output = df[\"population_density_categorical\"]\n",
    "df = df.drop(\"population_density_categorical\", axis=1)\n",
    "\n",
    "# Convert Categorical to Numerical \n",
    "# Apply One Hot Encoding \n",
    "df_one_hot = pd.get_dummies(df)\n",
    "\n",
    "#export_csv = df_one_hot.to_csv (r'D:\\\\Google Drive\\\\RWTH\\\\Introduction To Data Science\\\\Assignment Part 1\\\\onehot.csv') \n",
    "\n"
   ]
  },
  {
   "cell_type": "markdown",
   "metadata": {},
   "source": [
    "   (d) Train your network with default hyperparameters and return the parameters."
   ]
  },
  {
   "cell_type": "code",
   "execution_count": 109,
   "metadata": {},
   "outputs": [
    {
     "name": "stdout",
     "output_type": "stream",
     "text": [
      "The parameters after training the network :\n",
      "MLPClassifier(activation='relu', alpha=0.0001, batch_size='auto', beta_1=0.9,\n",
      "              beta_2=0.999, early_stopping=False, epsilon=1e-08,\n",
      "              hidden_layer_sizes=(100,), learning_rate='constant',\n",
      "              learning_rate_init=0.001, max_iter=200, momentum=0.9,\n",
      "              n_iter_no_change=10, nesterovs_momentum=True, power_t=0.5,\n",
      "              random_state=None, shuffle=True, solver='adam', tol=0.0001,\n",
      "              validation_fraction=0.1, verbose=False, warm_start=False)\n"
     ]
    }
   ],
   "source": [
    "# Your code:\n",
    "\n",
    "from sklearn.neural_network import MLPClassifier\n",
    "from sklearn.model_selection import train_test_split\n",
    "\n",
    "\n",
    "X = df_one_hot[list(df_one_hot.columns[1:])]\n",
    "Y = Output\n",
    "\n",
    "# The total dataset have 4000 rows\n",
    "# Now split the whole dataset into halves\n",
    "# First 2000 rows are selected for training the Neural Network\n",
    "# Last 2000 rows are selected for training the Neural Network\n",
    "X_train, X_test, y_train, y_test = train_test_split(X,Y,test_size=0.5)\n",
    "\n",
    "nn = MLPClassifier()\n",
    "parameters = nn.fit(X_train,y_train)\n",
    "print(\"The parameters after training the network :\")\n",
    "print(parameters)"
   ]
  },
  {
   "cell_type": "markdown",
   "metadata": {},
   "source": [
    "   (e) Try to find an optimized number of hidden layers and nodes. \n",
    "      - Start with default numbers and then at least go with one number above and one number below the default.\n",
    "      - Use the 2000 rows of the data for training.\n",
    "      - What are the optimized numbers of hidden layers and nodes that you have found?"
   ]
  },
  {
   "cell_type": "code",
   "execution_count": 143,
   "metadata": {},
   "outputs": [
    {
     "name": "stdout",
     "output_type": "stream",
     "text": [
      "The default number of Hidden Layers are  1 with nodes  100\n",
      "Default Accuracy = 0.8825\n",
      "\n",
      "With 2 Hidden Layers and each have 100 node\n",
      "Accuracy = 0.8235\n",
      "\n",
      "With 3 Hidden Layers and each have 100 node\n",
      "Accuracy = 0.87\n",
      "\n",
      "With 3 Hidden Layers with each have 100,101,102 node\n",
      "Accuracy = 0.7235\n",
      "\n",
      "With 3 Hidden Layers with each have 101,102,103 node\n",
      "Accuracy = 0.908\n",
      "Optimized Hidden Layer :  3  Nodes : (101, 102, 103)\n"
     ]
    }
   ],
   "source": [
    "# Your code: (number of hidden layers)\n",
    "\n",
    "print(\"The default number of Hidden Layers are \", len(parameters.hidden_layer_sizes), \"with nodes \" ,parameters.hidden_layer_sizes[0])\n",
    "\n",
    "nn = MLPClassifier()\n",
    "nn.fit(X_train,y_train)\n",
    "y_pred_default = nn.predict(X_test)                      # prediction \n",
    "accuracy_default = metric.accuracy_score(np.array(y_test).flatten(), np.array(y_pred_default).flatten(), normalize=True)\n",
    "print('Default Accuracy =',accuracy_default) \n",
    "\n",
    "pre_accuracy = accuracy_default\n",
    "optimized_hidden_layer = ()\n",
    "size = (100,100)\n",
    "print(\"\\nWith 2 Hidden Layers and each have 100 node\")\n",
    "nn_above = MLPClassifier(hidden_layer_sizes=size)\n",
    "nn_above.fit(X_train,y_train)\n",
    "y_pred_above = nn_above.predict(X_test)                      # prediction \n",
    "accuracy_above = metric.accuracy_score(np.array(y_test).flatten(), np.array(y_pred_above).flatten(), normalize=True)\n",
    "print('Accuracy =',accuracy_above)\n",
    "\n",
    "if (accuracy_above > pre_accuracy):\n",
    "    optimized_hidden_layer = size\n",
    "    pre_accuracy = accuracy_above\n",
    "\n",
    "size = (100,100,100)\n",
    "print(\"\\nWith 3 Hidden Layers and each have 100 node\")\n",
    "nn_above = MLPClassifier(hidden_layer_sizes=size)\n",
    "nn_above.fit(X_train,y_train)\n",
    "y_pred_above = nn_above.predict(X_test)                      # prediction \n",
    "accuracy_above = metric.accuracy_score(np.array(y_test).flatten(), np.array(y_pred_above).flatten(), normalize=True)\n",
    "print('Accuracy =',accuracy_above)\n",
    "\n",
    "if (accuracy_above > pre_accuracy):\n",
    "    optimized_hidden_layer = size\n",
    "    pre_accuracy = accuracy_above\n",
    "\n",
    "size = (100,101,102)\n",
    "print(\"\\nWith 3 Hidden Layers with each have 100,101,102 node\")\n",
    "nn_above = MLPClassifier(hidden_layer_sizes=size)\n",
    "nn_above.fit(X_train,y_train)\n",
    "y_pred_above = nn_above.predict(X_test)                      # prediction \n",
    "accuracy_above = metric.accuracy_score(np.array(y_test).flatten(), np.array(y_pred_above).flatten(), normalize=True)\n",
    "print('Accuracy =',accuracy_above)\n",
    "\n",
    "if (accuracy_above > pre_accuracy):\n",
    "    optimized_hidden_layer = size\n",
    "    pre_accuracy = accuracy_above\n",
    "    \n",
    "size = (101,102,103)\n",
    "print(\"\\nWith 3 Hidden Layers with each have 101,102,103 node\")\n",
    "nn_above = MLPClassifier(hidden_layer_sizes=size)\n",
    "nn_above.fit(X_train,y_train)\n",
    "y_pred_above = nn_above.predict(X_test)                      # prediction \n",
    "accuracy_above = metric.accuracy_score(np.array(y_test).flatten(), np.array(y_pred_above).flatten(), normalize=True)\n",
    "print('Accuracy =',accuracy_above)\n",
    "\n",
    "if (accuracy_above > pre_accuracy):\n",
    "    optimized_hidden_layer = size\n",
    "    pre_accuracy = accuracy_above\n",
    "    \n",
    "print(\"\\nOptimized Number of Hidden Layer : \", len(optimized_hidden_layer))"
   ]
  },
  {
   "cell_type": "code",
   "execution_count": 144,
   "metadata": {},
   "outputs": [
    {
     "name": "stdout",
     "output_type": "stream",
     "text": [
      "Optimized Number of Nodes in the Hidden Layer :  (101, 102, 103)\n"
     ]
    }
   ],
   "source": [
    "# Your code: (number of nodes in the hidden layer)\n",
    "\n",
    "print(\"Optimized Number of Nodes in the Hidden Layer : \",optimized_hidden_layer)"
   ]
  },
  {
   "cell_type": "code",
   "execution_count": 145,
   "metadata": {},
   "outputs": [
    {
     "name": "stdout",
     "output_type": "stream",
     "text": [
      "Accuracy = 0.908\n"
     ]
    }
   ],
   "source": [
    "# Your code: (optimized network) \n",
    "\n",
    "nn = MLPClassifier(hidden_layer_sizes = optimized_hidden_layer)\n",
    "nn.fit(X_train,y_train)\n",
    "y_pred = nn.predict(X_test)                      # prediction \n",
    "accuracy = metric.accuracy_score(np.array(y_test).flatten(), np.array(y_pred).flatten(), normalize=True)\n",
    "print('Accuracy =',accuracy_above)"
   ]
  },
  {
   "cell_type": "markdown",
   "metadata": {},
   "source": [
    "Explanation:\n"
   ]
  },
  {
   "cell_type": "markdown",
   "metadata": {},
   "source": [
    "   (f) Try to train your model with one linear activation function and one non-linear activation function. Use the default number of hidden layers and nodes.\n",
    "     - Name the functions and explain how the results are different and why. \n",
    "     - You can use evaluation metrics to show which activation function works better for this data set.\n",
    "     - Use the 2000 rows of the data for training."
   ]
  },
  {
   "cell_type": "code",
   "execution_count": 134,
   "metadata": {},
   "outputs": [
    {
     "name": "stdout",
     "output_type": "stream",
     "text": [
      "['very low' 'very low' 'high' ... 'low' 'very low' 'very low']\n",
      "accuracy = 0.8295\n"
     ]
    }
   ],
   "source": [
    "# Your code: (linear activation function):\n",
    "import sklearn.metrics as metric\n",
    "import numpy as np\n",
    "\n",
    "# identity is the linear activation function\n",
    "linear_act_func = MLPClassifier(activation = 'identity')\n",
    "linear_act_func.fit(X_train,y_train)\n",
    "\n",
    "\n",
    "y_pred_linear = linear_act_func.predict(X_test)                      # prediction\n",
    "print(y_pred_linear)                                      # show the output\n",
    "accuracy_linear = metric.accuracy_score(np.array(y_test).flatten(), np.array(y_pred_linear).flatten(), normalize=True)\n",
    "print('accuracy =',accuracy_linear)     "
   ]
  },
  {
   "cell_type": "code",
   "execution_count": 135,
   "metadata": {},
   "outputs": [
    {
     "name": "stdout",
     "output_type": "stream",
     "text": [
      "['very low' 'very low' 'high' ... 'low' 'very low' 'very low']\n",
      "accuracy = 0.9155\n"
     ]
    }
   ],
   "source": [
    "# Your code: (non-linear activation function):\n",
    "\n",
    "# logistic is the sigmoid non-linear activation function \n",
    "non_linear_act_func = MLPClassifier(activation = 'logistic')\n",
    "non_linear_act_func.fit(X_train,y_train)\n",
    "\n",
    "\n",
    "y_pred_non_linear = non_linear_act_func.predict(X_test)                      # prediction\n",
    "print(y_pred_non_linear)                                      # show the output\n",
    "accuracy_non_linear = metric.accuracy_score(np.array(y_test).flatten(), np.array(y_pred_non_linear).flatten(), normalize=True)\n",
    "print('accuracy =',accuracy_non_linear)    "
   ]
  },
  {
   "cell_type": "markdown",
   "metadata": {},
   "source": [
    "Explanation:\n"
   ]
  },
  {
   "cell_type": "markdown",
   "metadata": {},
   "source": [
    "## Question 6 - Evaluation (10 Points)"
   ]
  },
  {
   "cell_type": "markdown",
   "metadata": {},
   "source": [
    "   (a) Consider one of the models in question 4 (c) of your choice, one neural network with optimized number of hidden layers and nodes from question 5 (e), and the neural network with non-linear activation function from question 5 (f), for a total of *three* models, together with their respective datasets. Compute the following metrics for a 3-fold cross validation performed on each model:"
   ]
  },
  {
   "cell_type": "markdown",
   "metadata": {},
   "source": [
    "- Confusion matrices on the training data (sum cell-by-cell the results of each fold)"
   ]
  },
  {
   "cell_type": "code",
   "execution_count": null,
   "metadata": {},
   "outputs": [],
   "source": [
    "# Your code for the confusion matrices on the training data\n",
    "\n"
   ]
  },
  {
   "cell_type": "markdown",
   "metadata": {},
   "source": [
    "- Confusion matrices on the test data (sum cell-by-cell the results of each fold)"
   ]
  },
  {
   "cell_type": "code",
   "execution_count": null,
   "metadata": {},
   "outputs": [],
   "source": [
    "# Your code for the confusion matrices on the test data\n",
    "\n"
   ]
  },
  {
   "cell_type": "markdown",
   "metadata": {},
   "source": [
    "- Precision, recall and F1-scores on the test data (give explicitly the result for each fold)"
   ]
  },
  {
   "cell_type": "code",
   "execution_count": null,
   "metadata": {},
   "outputs": [],
   "source": [
    "# Your code for precision, recall and F1-scores on the test data\n",
    "\n"
   ]
  },
  {
   "cell_type": "markdown",
   "metadata": {},
   "source": [
    "- Accuracy scores on training and test data (give explicitly the result for each fold)"
   ]
  },
  {
   "cell_type": "code",
   "execution_count": null,
   "metadata": {},
   "outputs": [],
   "source": [
    "# Your code for accuracy scores on training and test data\n",
    "\n"
   ]
  },
  {
   "cell_type": "markdown",
   "metadata": {},
   "source": [
    "In order to turn numbers into insights, please comment on your findings. Motivate the answers to the following questions using the metrics and the findings in the questions 1 through 5 of the assignment."
   ]
  },
  {
   "cell_type": "markdown",
   "metadata": {},
   "source": [
    "   (b) What is, in your opinion, the best model? Motivate your answer with the correct performance metrics."
   ]
  },
  {
   "cell_type": "markdown",
   "metadata": {},
   "source": [
    "Explanation:\n"
   ]
  },
  {
   "cell_type": "markdown",
   "metadata": {},
   "source": [
    "   (c) Does any model suffer from underfitting or overfitting? Motivate your answer with the correct performance metrics."
   ]
  },
  {
   "cell_type": "markdown",
   "metadata": {},
   "source": [
    "Explanation:\n"
   ]
  },
  {
   "cell_type": "markdown",
   "metadata": {},
   "source": [
    "   (d) What is the effect of employing cross validation, instead of simply holding our a certain percentage of examples as test/validation set? What are the advantages and disadvantages of cross validation?"
   ]
  },
  {
   "cell_type": "markdown",
   "metadata": {},
   "source": [
    "Explanation:\n"
   ]
  }
 ],
 "metadata": {
  "kernelspec": {
   "display_name": "Python 3",
   "language": "python",
   "name": "python3"
  },
  "language_info": {
   "codemirror_mode": {
    "name": "ipython",
    "version": 3
   },
   "file_extension": ".py",
   "mimetype": "text/x-python",
   "name": "python",
   "nbconvert_exporter": "python",
   "pygments_lexer": "ipython3",
   "version": "3.7.3"
  }
 },
 "nbformat": 4,
 "nbformat_minor": 2
}
